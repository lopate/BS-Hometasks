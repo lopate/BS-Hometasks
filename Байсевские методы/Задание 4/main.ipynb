{
 "cells": [
  {
   "cell_type": "code",
   "execution_count": 50,
   "metadata": {},
   "outputs": [],
   "source": [
    "import numpy as np\n",
    "import scipy.stats as stats\n",
    "m = 1000\n",
    "n = 10\n",
    "d = 2\n",
    "z_distr = stats.multivariate_normal(mean = np.ones(d), cov = np.eye(d))\n",
    "epsilon_distr = stats.multivariate_normal(mean = np.ones(n), cov = np.eye(n))\n"
   ]
  },
  {
   "cell_type": "code",
   "execution_count": null,
   "metadata": {},
   "outputs": [],
   "source": []
  },
  {
   "cell_type": "code",
   "execution_count": 51,
   "metadata": {},
   "outputs": [],
   "source": [
    "Z = z_distr.rvs(size = m)"
   ]
  },
  {
   "cell_type": "code",
   "execution_count": 52,
   "metadata": {},
   "outputs": [
    {
     "data": {
      "text/plain": [
       "(1000, 2)"
      ]
     },
     "execution_count": 52,
     "metadata": {},
     "output_type": "execute_result"
    }
   ],
   "source": [
    "Z.shape"
   ]
  },
  {
   "cell_type": "code",
   "execution_count": 53,
   "metadata": {},
   "outputs": [],
   "source": [
    "W = np.random.uniform(low=0.0, high=1.0, size=(n, d))"
   ]
  },
  {
   "cell_type": "code",
   "execution_count": 54,
   "metadata": {},
   "outputs": [
    {
     "data": {
      "text/plain": [
       "(10, 2)"
      ]
     },
     "execution_count": 54,
     "metadata": {},
     "output_type": "execute_result"
    }
   ],
   "source": [
    "W.shape"
   ]
  },
  {
   "cell_type": "code",
   "execution_count": 55,
   "metadata": {},
   "outputs": [],
   "source": [
    "epsilon = epsilon_distr.rvs(size = m)"
   ]
  },
  {
   "cell_type": "code",
   "execution_count": 56,
   "metadata": {},
   "outputs": [],
   "source": [
    "nu, std = np.zeros(n), 1\n",
    "X = Z@W.T\n",
    "X = Z@W.T + epsilon + nu\n"
   ]
  },
  {
   "cell_type": "code",
   "execution_count": 57,
   "metadata": {},
   "outputs": [],
   "source": [
    "def expectation_step(W, nu, std, X, n, m, d):\n",
    "    std_z = np.linalg.inv(np.eye(d)  + (std**(-2)) * W.T@W)\n",
    "    mean_z = (X - np.repeat(nu.reshape(1, -1), m, axis = 0)) @ ((std**(-2)) * std_z @ W.T).T\n",
    "    return (mean_z, std_z)\n",
    "\n",
    "mean_z, std_z = expectation_step(W, nu, std, X, n, m, d)"
   ]
  },
  {
   "cell_type": "code",
   "execution_count": 58,
   "metadata": {},
   "outputs": [
    {
     "name": "stdout",
     "output_type": "stream",
     "text": [
      "[[ 0.32826469  1.98425404]\n",
      " [-0.47733538  0.62172797]\n",
      " [-1.36634315 -0.18233339]\n",
      " ...\n",
      " [ 1.99367444  0.12527334]\n",
      " [ 0.60758008 -1.17460774]\n",
      " [ 1.29731588  0.42038265]]\n"
     ]
    }
   ],
   "source": [
    "print(Z)"
   ]
  },
  {
   "cell_type": "code",
   "execution_count": 59,
   "metadata": {},
   "outputs": [
    {
     "name": "stdout",
     "output_type": "stream",
     "text": [
      "[[ 1.17646072  2.35430395]\n",
      " [ 0.47404612  1.11615182]\n",
      " [-0.46043904  1.0319853 ]\n",
      " ...\n",
      " [ 2.74092086  1.14986699]\n",
      " [ 1.03781264  0.27258335]\n",
      " [ 1.08658219  1.11539964]]\n"
     ]
    }
   ],
   "source": [
    "print((mean_z))"
   ]
  },
  {
   "cell_type": "code",
   "execution_count": 60,
   "metadata": {},
   "outputs": [
    {
     "name": "stdout",
     "output_type": "stream",
     "text": [
      "[[0.01452794 0.16652798]\n",
      " [0.3969708  0.34774918]\n",
      " [0.54744719 0.30597731]\n",
      " [0.89950752 0.68598575]\n",
      " [0.88240152 0.53831544]\n",
      " [0.7154917  0.8355805 ]\n",
      " [0.96745316 0.12768992]\n",
      " [0.91564348 0.13277442]\n",
      " [0.54289209 0.95508827]\n",
      " [0.17619995 0.88819796]]\n"
     ]
    }
   ],
   "source": [
    "print(W)"
   ]
  },
  {
   "cell_type": "code",
   "execution_count": 61,
   "metadata": {},
   "outputs": [],
   "source": [
    "def maximization_step(mean_z, std_z, nu, std, X, n, m, d):\n",
    "    mean_mean_z = np.mean(mean_z, axis = 0)\n",
    "    mean_X = np.mean(X, axis = 0)\n",
    "    X0 = X - np.repeat(mean_X.reshape(1, -1), m, axis = 0)\n",
    "    mean_z0 = mean_z - np.repeat(mean_mean_z.reshape(1, -1), m, axis = 0)\n",
    "    W =  X0.T @ (np.linalg.inv((mean_z0).T@(mean_z0) - std_z) @ (mean_z0).T).T\n",
    "    nu = mean_X - W @ mean_mean_z\n",
    "    std = np.sqrt(np.mean(W@ std_z @ W.T))\n",
    "    return W, nu, std\n"
   ]
  },
  {
   "cell_type": "code",
   "execution_count": 62,
   "metadata": {},
   "outputs": [],
   "source": [
    "W_, nu_, std_ = W, nu, std\n",
    "for i in range(100):\n",
    "    mean_z, std_z = expectation_step(W_, nu_, std_, X, n, m, d)\n",
    "    W_, nu_, std_ = maximization_step(mean_z, std_z, nu_, std_, X, n, m, d)\n",
    "    if (np.linalg.norm(Z@W.T - X) / (n * m) < 0.01 *std):\n",
    "        break"
   ]
  },
  {
   "cell_type": "code",
   "execution_count": 63,
   "metadata": {},
   "outputs": [
    {
     "name": "stdout",
     "output_type": "stream",
     "text": [
      "(array([[-0.08833821,  0.37270874],\n",
      "       [ 0.49953254,  0.32565996],\n",
      "       [ 0.62625636,  0.37942504],\n",
      "       [ 1.13844196,  0.69642404],\n",
      "       [ 1.05173884,  0.53354028],\n",
      "       [ 0.63553497,  1.11587018],\n",
      "       [ 1.37813623, -0.12082277],\n",
      "       [ 1.35612563, -0.21219083],\n",
      "       [ 0.40242829,  1.43789174],\n",
      "       [-0.02937775,  1.33248278]]), array([ 0.80716924,  0.49858763,  0.24783375, -0.28282494, -0.0649696 ,\n",
      "       -0.10346159, -0.00436239,  0.1567013 , -0.23526414,  0.1540653 ]), 2.07236463732001e-53)\n"
     ]
    }
   ],
   "source": [
    "print((W_, nu_, std_))"
   ]
  },
  {
   "cell_type": "code",
   "execution_count": 64,
   "metadata": {},
   "outputs": [
    {
     "name": "stdout",
     "output_type": "stream",
     "text": [
      "0.013424642649548195\n"
     ]
    }
   ],
   "source": [
    "print(np.linalg.norm(Z@W_.T - X) / (n * m))"
   ]
  },
  {
   "cell_type": "code",
   "execution_count": 65,
   "metadata": {},
   "outputs": [
    {
     "name": "stdout",
     "output_type": "stream",
     "text": [
      "(array([[0.01452794, 0.16652798],\n",
      "       [0.3969708 , 0.34774918],\n",
      "       [0.54744719, 0.30597731],\n",
      "       [0.89950752, 0.68598575],\n",
      "       [0.88240152, 0.53831544],\n",
      "       [0.7154917 , 0.8355805 ],\n",
      "       [0.96745316, 0.12768992],\n",
      "       [0.91564348, 0.13277442],\n",
      "       [0.54289209, 0.95508827],\n",
      "       [0.17619995, 0.88819796]]), array([0., 0., 0., 0., 0., 0., 0., 0., 0., 0.]), 1)\n"
     ]
    }
   ],
   "source": [
    "print((W, nu, std))"
   ]
  },
  {
   "cell_type": "code",
   "execution_count": 66,
   "metadata": {},
   "outputs": [],
   "source": [
    "epsilon = epsilon_distr.rvs(size = m)\n",
    "Z_test = z_distr.rvs(size = m)\n",
    "X_test = Z_test@W.T + epsilon + nu"
   ]
  },
  {
   "cell_type": "code",
   "execution_count": 76,
   "metadata": {},
   "outputs": [
    {
     "name": "stdout",
     "output_type": "stream",
     "text": [
      "Незашумленные данные\n",
      "0.011044672599926903\n",
      "0.007606374029180619\n",
      "Шумные данные\n",
      "0.009013487088044558\n",
      "0.010405886844817597\n"
     ]
    }
   ],
   "source": [
    "from sklearn.decomposition import PCA\n",
    "pca = PCA(n_components=d)\n",
    "pca.fit(X)\n",
    "Z_pca = pca.fit_transform(X_test)\n",
    "Z_bayes = X_test@ (np.linalg.inv(W_.T@W_) @ W.T).T\n",
    "X_pedict = pca.inverse_transform(Z_pca)\n",
    "X_pedict_bayes = Z_bayes@W_.T\n",
    "print(\"Незашумленные данные\")\n",
    "print(np.linalg.norm(X_pedict - Z_test@W.T) / (n * m))\n",
    "print(np.linalg.norm(X_pedict_bayes - Z_test@W.T) / (n * m))\n",
    "print(\"Шумные данные\")\n",
    "print(np.linalg.norm(X_pedict - X_test) / (n * m))\n",
    "print(np.linalg.norm(X_pedict_bayes - X_test) / (n * m))\n"
   ]
  },
  {
   "cell_type": "markdown",
   "metadata": {},
   "source": [
    "Байес дает прогнозы ближе к незашумленным данным, PCA приближает к шумным данным "
   ]
  },
  {
   "cell_type": "markdown",
   "metadata": {},
   "source": [
    "## Часть 2"
   ]
  }
 ],
 "metadata": {
  "kernelspec": {
   "display_name": "base",
   "language": "python",
   "name": "python3"
  },
  "language_info": {
   "codemirror_mode": {
    "name": "ipython",
    "version": 3
   },
   "file_extension": ".py",
   "mimetype": "text/x-python",
   "name": "python",
   "nbconvert_exporter": "python",
   "pygments_lexer": "ipython3",
   "version": "3.11.5"
  }
 },
 "nbformat": 4,
 "nbformat_minor": 2
}
