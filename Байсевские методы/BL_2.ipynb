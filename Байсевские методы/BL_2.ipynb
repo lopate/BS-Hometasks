{
 "cells": [
  {
   "cell_type": "code",
   "execution_count": 177,
   "metadata": {},
   "outputs": [],
   "source": [
    "import numpy as np\n",
    "from scipy.stats import logistic"
   ]
  },
  {
   "cell_type": "markdown",
   "metadata": {},
   "source": [
    "### Код для Задачи 2(а)"
   ]
  },
  {
   "cell_type": "code",
   "execution_count": 178,
   "metadata": {},
   "outputs": [
    {
     "name": "stdout",
     "output_type": "stream",
     "text": [
      "50142 49858\n",
      "50142 49858\n",
      "0.9900392708607431\n"
     ]
    }
   ],
   "source": [
    "scale = 1\n",
    "n = 100\n",
    "m = 100000\n",
    "alpha = 1\n",
    "alpha_1 = 1/alpha\n",
    "w = np.random.normal(0, scale, n)\n",
    "x = np.random.normal(0, np.sqrt(alpha_1), (m, n))\n",
    "def p(x):\n",
    "    return logistic.cdf(w @ x)\n",
    "y, y_pred = [], []\n",
    "P, N = 0,0\n",
    "for i in range(m):\n",
    "    y_i = np.random.binomial(1, p(x[i]))\n",
    "    y += [y_i]\n",
    "    y_pred += [p(x[i])]\n",
    "    if(y_i == 1):\n",
    "        P += 1\n",
    "    else:\n",
    "        N += 1\n",
    "y = np.array(y)\n",
    "\n",
    "Y = np.stack((y_pred, y), axis=1)\n",
    "Y = Y[np.argsort(Y[:, 0])]\n",
    "Y = np.flipud(Y)\n",
    "TP, FP, TN, FN = 0, 0, 0, 0 \n",
    "last_TP = 0\n",
    "res = 0\n",
    "for i in range(len(Y)):\n",
    "    if (Y[i][1] == 0):\n",
    "        FP += 1\n",
    "        res += TP\n",
    "        last_TP = TP\n",
    "    else:\n",
    "        TP += 1\n",
    "print(FP , TP)\n",
    "print(N , P)\n",
    "print(res / (N * P))\n"
   ]
  },
  {
   "cell_type": "markdown",
   "metadata": {},
   "source": [
    "Семплированием для m стремящегося к бесконечности получается AUC = 1, что совпадает с теоретической оценкой"
   ]
  },
  {
   "cell_type": "markdown",
   "metadata": {},
   "source": [
    "### Код для Задачи 2(б)"
   ]
  },
  {
   "cell_type": "code",
   "execution_count": 423,
   "metadata": {},
   "outputs": [
    {
     "name": "stdout",
     "output_type": "stream",
     "text": [
      "0.4803904761904762\n"
     ]
    }
   ],
   "source": [
    "scale = 1\n",
    "n = 100\n",
    "m = 10\n",
    "alpha = 0.5\n",
    "alpha_1 = 1/alpha\n",
    "k = 100\n",
    "ans = []\n",
    "for i in range(k):\n",
    "    w = np.random.normal(0, np.sqrt(alpha_1), n)\n",
    "    x = np.random.normal(0, scale, (m, n))\n",
    "\n",
    "\n",
    "    y, y_pred = [], []\n",
    "\n",
    "    def p(x):\n",
    "        return logistic.cdf(w @ x)\n",
    "    P, N = 0, 0\n",
    "    for i in range(m):\n",
    "        y_i = np.random.binomial(1, p(x[i]))\n",
    "        if(y_i == 1):\n",
    "            P += 1\n",
    "        else:\n",
    "            N += 1\n",
    "        y += [y_i]\n",
    "    w = np.random.normal(0, np.sqrt(alpha_1), n)\n",
    "    for i in range(m):\n",
    "        y_pred += [p(x[i])]\n",
    "    y = np.array(y)\n",
    "\n",
    "    Y = np.stack((y_pred, y), axis=1)\n",
    "    Y = Y[np.argsort(Y[:, 0])]\n",
    "    Y = np.flipud(Y)\n",
    "\n",
    "    TP, FP, TN, FN = 0, 0, 0, 0 \n",
    "    last_TP = 0\n",
    "    res = 0\n",
    "    for i in range(len(Y)):\n",
    "        if (Y[i][1] == 0):\n",
    "            FP += 1\n",
    "            res += TP\n",
    "            last_TP = TP\n",
    "        else:\n",
    "            TP += 1\n",
    "    ans += [res / (N * P)]\n",
    "ans = np.mean(ans)\n",
    "print(ans)"
   ]
  },
  {
   "cell_type": "markdown",
   "metadata": {},
   "source": [
    "Семплированием для любого m получается AUC = 0.5С, что совпадает с теоретической оценкой"
   ]
  },
  {
   "cell_type": "markdown",
   "metadata": {},
   "source": [
    "### Код для Задачи 4(в)"
   ]
  },
  {
   "cell_type": "code",
   "execution_count": 415,
   "metadata": {},
   "outputs": [
    {
     "name": "stdout",
     "output_type": "stream",
     "text": [
      "[9.129114006530543, 2.470879781871731, 2.355864615250967, 2.315255010420582, 2.221624745074848, 2.046277825718322, 1.9936102316774642, 1.8933915514296478, 1.8530771472075178, 1.8002736076565564, 1.7853005048915538, 1.7677488487025956, 1.7168449792438387, 1.7081153244164111, 1.7029001841529956, 1.6277887969965288, 1.625158652939335, 1.5713123821385468, 1.4873305152979999, 1.3507967169175001, 1.283163967843225, 1.2752910874128924, 1.2563524304855263, 1.179936222580228, 1.1313981857984743, 1.093518029223394, 1.0916002215947584, 1.0909692243840965, 1.0897547322876346, 1.0881565978836458, 1.0779179631949982, 1.0715106666547551, 1.0473393584410988, 1.0473329126308082, 1.0449864600401155, 1.0316407911566858, 1.0049948943560476, 0.9897847995426361, 0.9631269110786483, 0.9201070701893168, 0.920013542921821, 0.8932333749364241, 0.8884605091407898, 0.8864969781638442, 0.850648427808152, 0.812405920195407, 0.8037436680689668, 0.782313681894639, 0.7683895932783591, 0.7433685069568285, 0.740041238613652, 0.7277908421975324, 0.7013418367776476, 0.6577930520284399, 0.6464594926606368, 0.6178234894055417, 0.6048832420010011, 0.5739745836259045, 0.5726721041075981, 0.5717303158465945, 0.5522715282173786, 0.547369945756966, 0.5360015432390218, 0.5183501337345439, 0.5120520429139084, 0.5105575829891834, 0.5081131890396953, 0.49855629290806613, 0.4905721453336134, 0.4694007689687585, 0.42547447029667457, 0.423065411798606, 0.4104144727105241, 0.4042243673009756, 0.363907256549689, 0.3428294212508918, 0.3136638065362397, 0.302325560891123, 0.28110762732934386, 0.26743762237204577, 0.2581766780617746, 0.1985745808331204, 0.19568079617130546, 0.1717306741213112, 0.16970449185446343, 0.16209971288429895, 0.1466001628122307, 0.13913471116244439, 0.1269273866099863, 0.12627437774614245, 0.12275516316430143, 0.10755476329030991, 0.10162749797285832, 0.09453307487869539, 0.07620562460537006, 0.05801683413159253, 0.037402845725044154, 0.03267285861275879, 0.020490545567543955, 0.019771527415818047]\n",
      "0.0001\n",
      "0.0002\n",
      "(0, 99)\n"
     ]
    }
   ],
   "source": [
    "from scipy.stats import t\n",
    "scale = 1\n",
    "n = 100\n",
    "m1 = 100\n",
    "m2 = 100\n",
    "alpha = 0.01\n",
    "x1 = np.random.normal(0, scale, (m1, n))\n",
    "x2 = np.random.normal(0, scale, (m2, n))\n",
    "jd = 0\n",
    "x1[..., jd] += 1\n",
    "TP, FP, TN, FN = 0, 0, 0, 0 \n",
    "\n",
    "\n",
    "def crit(x1, x2, m1, m2, i):\n",
    "    x1_mean = np.mean(x1[:, i])\n",
    "    x2_mean = np.mean(x2[:, i])\n",
    "    x1_std = np.std(x1[:, i], ddof = 1)\n",
    "    x2_std = np.std(x2[:, i], ddof = 1)\n",
    "    #print(x2[:, i])\n",
    "    s2 = np.sqrt(((m1 - 1) * x1_std**2  + (m2 - 1) * x2_std**2)/ (m1 + m2 - 2))\n",
    "    return np.sqrt(m1*m2 / (m1 + m2 - 2)) * (x1_mean - x2_mean) / s2\n",
    "p = []\n",
    "T = []\n",
    "for i in range(n - 1, -1, -1):\n",
    "    T += [np.abs(crit(x1, x2, m1, m2, i))]\n",
    "    pi = t(df = m1 + m2 - 2).cdf(np.abs(crit(x1, x2, m1, m2, i)))\n",
    "                       \n",
    "    p +=  [2*(1 - pi)]\n",
    "\n",
    "T.sort()\n",
    "T.reverse()\n",
    "p.reverse()\n",
    "print(T)\n",
    "\n",
    "p = np.array(p)\n",
    "h = p.argsort()\n",
    "p = p[h]\n",
    "\n",
    "for i in range(n):\n",
    "\n",
    "    print(((i+1) * alpha) / n)\n",
    "    if(p[i] >= ((i+1) * alpha) / n):\n",
    "        FN = i - TN\n",
    "        break\n",
    "    if(h[i] == jd):\n",
    "        TN += 1\n",
    "FP += 1 - TN\n",
    "TP = n - 1 - FN\n",
    "print((FP, TP))"
   ]
  },
  {
   "cell_type": "markdown",
   "metadata": {},
   "source": [
    "Если тестировать гипотезы по отдельности, то гипотеза о том, что 1ый признак с одинаковым матожиданием отвергается, для всех она принимается в большинстве случаев, но с большим числом m1 и m2 они принимаются правктически всегда."
   ]
  },
  {
   "cell_type": "markdown",
   "metadata": {},
   "source": [
    "Если тестировать гипотезы совместно, то вне зависимости  от m1 и m2 гипотеза для 1го признака отвергается а для всех остальных принимается."
   ]
  },
  {
   "cell_type": "code",
   "execution_count": null,
   "metadata": {},
   "outputs": [],
   "source": []
  }
 ],
 "metadata": {
  "kernelspec": {
   "display_name": "base",
   "language": "python",
   "name": "python3"
  },
  "language_info": {
   "codemirror_mode": {
    "name": "ipython",
    "version": 3
   },
   "file_extension": ".py",
   "mimetype": "text/x-python",
   "name": "python",
   "nbconvert_exporter": "python",
   "pygments_lexer": "ipython3",
   "version": "3.11.5"
  }
 },
 "nbformat": 4,
 "nbformat_minor": 2
}
