{
 "cells": [
  {
   "cell_type": "markdown",
   "metadata": {
    "id": "IFTMJ2v-5YpN"
   },
   "source": [
    "# Homework 2. Training networks in PyTorch\n",
    "\n",
    "Это домашнее задание посвящено отработки навыков по написанию и обучению нейронных сетей. Ваше задание реализовать обучение нейронной сети и выполнить задания по анализу сети в конце ноутбука. Удачи!\n",
    "\n",
    "<font color='red'> **Дедлайн 4 октября 23:59 (жесткий)**  </font>"
   ]
  },
  {
   "cell_type": "code",
   "execution_count": null,
   "metadata": {
    "id": "yDhPoMCgVjUM"
   },
   "outputs": [],
   "source": []
  },
  {
   "cell_type": "markdown",
   "metadata": {
    "id": "i3dj1mfT5Yp4"
   },
   "source": [
    "### Data loading in pytorch"
   ]
  },
  {
   "cell_type": "code",
   "execution_count": 1,
   "metadata": {
    "id": "UKLLAvNt5Yp5"
   },
   "outputs": [],
   "source": [
    "import torch\n",
    "import torch.nn as nn\n",
    "import torch.nn.functional as F\n",
    "import numpy as np\n",
    "import torch.utils.data"
   ]
  },
  {
   "cell_type": "code",
   "execution_count": 2,
   "metadata": {
    "id": "h626FYAm5Yp6"
   },
   "outputs": [],
   "source": [
    "from matplotlib import pyplot as plt\n",
    "%matplotlib inline"
   ]
  },
  {
   "cell_type": "markdown",
   "metadata": {
    "id": "_2oqonVb5Yp7"
   },
   "source": [
    "You will works with a MNIST dataset. It contains grayscale images of handwritten digits of size 28 x 28. The number of training objects is 60000.\n",
    "\n",
    "\n",
    "In pytorch, there is a special module to download MNIST. But for us it is more convinient to load the data ourselves."
   ]
  },
  {
   "cell_type": "code",
   "execution_count": 3,
   "metadata": {
    "id": "3vZ3StbV5Yp7"
   },
   "outputs": [],
   "source": [
    "from util import load_mnist"
   ]
  },
  {
   "cell_type": "code",
   "execution_count": 4,
   "metadata": {
    "id": "bOxvlgne5Yp9"
   },
   "outputs": [],
   "source": [
    "X_train, y_train, X_test, y_test = load_mnist()"
   ]
  },
  {
   "cell_type": "markdown",
   "metadata": {
    "id": "4q6eiPbL5Yp-"
   },
   "source": [
    "The code below prepares short data (train and val) for seminar purposes (use this data to quickly learn model on CPU and to tune the hyperparameters). Also, we prepare the full data (train_full and test) to train a final model."
   ]
  },
  {
   "cell_type": "code",
   "execution_count": 5,
   "metadata": {
    "id": "0IJS2adK5Yp_",
    "outputId": "be9d80dc-2484-4c7b-ffad-d82b84692f91"
   },
   "outputs": [
    {
     "data": {
      "text/plain": [
       "(60000, 1, 28, 28)"
      ]
     },
     "execution_count": 5,
     "metadata": {},
     "output_type": "execute_result"
    }
   ],
   "source": [
    "# shuffle data\n",
    "np.random.seed(0)\n",
    "idxs = np.random.permutation(np.arange(X_train.shape[0]))\n",
    "X_train, y_train = X_train[idxs], y_train[idxs]\n",
    "\n",
    "X_train.shape"
   ]
  },
  {
   "cell_type": "markdown",
   "metadata": {
    "id": "dYzxQ2Mf5Yp_"
   },
   "source": [
    "Pytorch offers convinient class DataLoader for mini batch generation. You should pass instance of Tensor Dataset to it."
   ]
  },
  {
   "cell_type": "code",
   "execution_count": 6,
   "metadata": {
    "id": "oOmqt8aE5Yp_"
   },
   "outputs": [
    {
     "name": "stderr",
     "output_type": "stream",
     "text": [
      "C:\\Users\\sasha\\AppData\\Local\\Temp\\ipykernel_38624\\2761436466.py:3: UserWarning: The given NumPy array is not writable, and PyTorch does not support non-writable tensors. This means writing to this tensor will result in undefined behavior. You may want to copy the array to protect its data or make it writable before converting it to a tensor. This type of warning will be suppressed for the rest of this program. (Triggered internally at C:\\cb\\pytorch_1000000000000\\work\\torch\\csrc\\utils\\tensor_numpy.cpp:212.)\n",
      "  torch.from_numpy(y).long())\n"
     ]
    }
   ],
   "source": [
    "def get_loader(X, y, batch_size=64):\n",
    "    train = torch.utils.data.TensorDataset(torch.from_numpy(X).float(),\n",
    "                                       torch.from_numpy(y).long())\n",
    "    train_loader = torch.utils.data.DataLoader(train,\n",
    "                                               batch_size=batch_size)\n",
    "    return train_loader\n",
    "\n",
    "# for final model:\n",
    "train_loader_full = get_loader(X_train, y_train)\n",
    "test_loader = get_loader(X_test, y_test)\n",
    "# for validation purposes:\n",
    "train_loader = get_loader(X_train[:15000], y_train[:15000])\n",
    "val_loader = get_loader(X_train[15000:30000], y_train[15000:30000])"
   ]
  },
  {
   "cell_type": "code",
   "execution_count": 7,
   "metadata": {
    "id": "bOfwqdwJ5YqA",
    "outputId": "f41c6b2c-c1fe-48b6-8382-e5980d16d843"
   },
   "outputs": [
    {
     "data": {
      "text/plain": [
       "torch.Size([15000, 1, 28, 28])"
      ]
     },
     "execution_count": 7,
     "metadata": {},
     "output_type": "execute_result"
    }
   ],
   "source": [
    "# check number of objects\n",
    "val_loader.dataset.tensors[0].shape"
   ]
  },
  {
   "cell_type": "markdown",
   "metadata": {
    "id": "lRoL5vqr5YqB"
   },
   "source": [
    "### Building LeNet-5\n",
    "\n",
    "Convolutional layer (from Anton Osokin's presentation):\n",
    "![slide](https://github.com/nadiinchi/dl_labs/raw/master/convolution.png)"
   ]
  },
  {
   "cell_type": "markdown",
   "metadata": {
    "id": "0WokmLD85YqB"
   },
   "source": [
    "You need to implement Lenet-5:\n",
    "\n",
    "![Архитектура LeNet-5](https://www.researchgate.net/profile/Vladimir_Golovko3/publication/313808170/figure/fig3/AS:552880910618630@1508828489678/Architecture-of-LeNet-5.png)"
   ]
  },
  {
   "cell_type": "markdown",
   "metadata": {
    "id": "Lc-cF7o35YqD"
   },
   "source": [
    "Construct a network according to the image and code examples given above. Use ReLU nonlinearity (after all linear and convolutional layers). The network must support multiplying the number of convolutions in each convolutional layer by k.\n",
    "\n",
    "Please note that on the scheme the size of the image is 32 x 32 but in our code the size is 28 x 28.\n",
    "\n",
    "Do not apply softmax at the end of the forward pass!"
   ]
  },
  {
   "cell_type": "markdown",
   "metadata": {
    "id": "iWfeNQ9gPhXo"
   },
   "source": [
    "### <font color='red'>[TODO] Написание архитектуры Le-Net-5 </font>\n",
    "\n",
    "В этой части вам нужно реализовать архитектуру Le-Net-5, но учтите, что на вход изображения приходит 28x28.\n",
    "\n",
    "Для того, написать архитектуру используйте [nn.Conv2D](https://pytorch.org/docs/stable/generated/torch.nn.Conv2d.html), [nn.AvgPool2d](https://pytorch.org/docs/stable/generated/torch.nn.AvgPool2d.html), [nn.ReLU](https://pytorch.org/docs/stable/generated/torch.nn.ReLU.html). Ориентируйтесь на картинку сверху в реализации"
   ]
  },
  {
   "cell_type": "code",
   "execution_count": 8,
   "metadata": {
    "id": "k9AXOaVh5YqE"
   },
   "outputs": [],
   "source": [
    "k = 1\n",
    "class CNN(nn.Module):\n",
    "    def __init__(self):\n",
    "        super(CNN, self).__init__( )\n",
    "        ### your code here: define layers\n",
    "        #First convolution layer\n",
    "        self.conv1 = nn.Sequential(\n",
    "            nn.Conv2d(in_channels=1, out_channels=6 * k, kernel_size=5, stride=1),\n",
    "            nn.ReLU(),\n",
    "            nn.AvgPool2d(kernel_size=2)\n",
    "        )\n",
    "        #Second convolution layer\n",
    "        self.conv2 = nn.Sequential(\n",
    "            nn.Conv2d(in_channels=6 * k, out_channels=16 * k, kernel_size=5, stride=1),\n",
    "            nn.ReLU(),\n",
    "            nn.AvgPool2d(kernel_size=2)\n",
    "        )\n",
    "        #First linear layer\n",
    "        self.fc1 = nn.Sequential(\n",
    "            nn.Linear(in_features=4 * 4 * 16 * k, out_features=120),\n",
    "            nn.ReLU()\n",
    "        )\n",
    "        #Second linear layer\n",
    "        self.fc2 = nn.Sequential(\n",
    "            nn.Linear(in_features=120, out_features=84),\n",
    "            nn.ReLU()\n",
    "        )\n",
    "        #Gauss layer\n",
    "        self.fc3 = nn.Sequential(\n",
    "            nn.Linear(in_features=84, out_features=10)\n",
    "        )\n",
    "    def forward(self, x):\n",
    "        conv1_output = self.conv1(x)  \n",
    "        conv2_output = self.conv2(conv1_output)  \n",
    "        conv2_output = conv2_output.view(-1, 4*4*16*k) #fast reshape \n",
    "        fc1_output = self.fc1(conv2_output)\n",
    "        fc2_output = self.fc2(fc1_output)\n",
    "        fc3_output = self.fc3(fc2_output)\n",
    "        return fc3_output\n",
    "        ### your code here: transform x using layers\n"
   ]
  },
  {
   "cell_type": "markdown",
   "metadata": {
    "id": "J4BYDgVO5YqE"
   },
   "source": [
    "Let's count the number of the parameters in the network:"
   ]
  },
  {
   "cell_type": "code",
   "execution_count": 9,
   "metadata": {
    "id": "DMqTaKi_5YqF"
   },
   "outputs": [],
   "source": [
    "cnn = CNN()"
   ]
  },
  {
   "cell_type": "code",
   "execution_count": 10,
   "metadata": {
    "id": "JobCjm_Z5YqG"
   },
   "outputs": [
    {
     "data": {
      "text/plain": [
       "44426"
      ]
     },
     "execution_count": 10,
     "metadata": {},
     "output_type": "execute_result"
    }
   ],
   "source": [
    "def count_parameters(model):\n",
    "    return sum(param.data.numpy().size for param \\\n",
    "               in model.parameters() if param.requires_grad)\n",
    "\n",
    "count_parameters(cnn)"
   ]
  },
  {
   "cell_type": "markdown",
   "metadata": {
    "id": "p50aWdYI5YqG"
   },
   "source": [
    "### Training"
   ]
  },
  {
   "cell_type": "markdown",
   "metadata": {
    "id": "OO04799z5YqH"
   },
   "source": [
    "Let's define the loss function:"
   ]
  },
  {
   "cell_type": "code",
   "execution_count": 11,
   "metadata": {
    "id": "xeBFcssY5YqH"
   },
   "outputs": [],
   "source": [
    "criterion = nn.CrossEntropyLoss() # loss includes softmax"
   ]
  },
  {
   "cell_type": "markdown",
   "metadata": {
    "id": "500YiRwa5YqI"
   },
   "source": [
    "Also, define a device where to store the data and the model (cpu or gpu):"
   ]
  },
  {
   "cell_type": "code",
   "execution_count": 12,
   "metadata": {},
   "outputs": [
    {
     "name": "stdout",
     "output_type": "stream",
     "text": [
      "False\n"
     ]
    }
   ],
   "source": [
    "print(torch.cuda.is_available())"
   ]
  },
  {
   "cell_type": "code",
   "execution_count": 14,
   "metadata": {
    "id": "3HQo_6Kb5YqJ"
   },
   "outputs": [],
   "source": [
    "device = torch.device('cpu')\n",
    "#device = torch.device('cuda') # Uncomment this to run on GPU\n",
    "cnn = cnn.to(device)"
   ]
  },
  {
   "cell_type": "markdown",
   "metadata": {
    "id": "KK9sl8w_5YqK"
   },
   "source": [
    "During training, we will control the quality on the training and validation set. This produces duplicates of the code. That's why we will define a function evaluate_loss_acc to evaluate our model on different data sets. In the same manner, we define function train_epoch to perform one training epoch on traiing data. Please note that we will compute the training loss _after_ each epoch (not averaging it during epoch).\n",
    "\n",
    "In the propotypes, train and eval modes are noted. In our case, we don't need them (because we don't use neither dropout nor batch normalization). However, we will switch the regime so you can use this code in the future."
   ]
  },
  {
   "cell_type": "markdown",
   "metadata": {
    "id": "K-9aShtYQWkt"
   },
   "source": [
    "### <font color='red'>[TODO] Реализуйте функции обучение модели </font>\n",
    "\n",
    "В части вам нужно написать циклы обучения моделей, вы можете ориентировать на ноутбук семинара при их выполнении"
   ]
  },
  {
   "cell_type": "code",
   "execution_count": 15,
   "metadata": {
    "id": "5dQn4HuD5YqL"
   },
   "outputs": [],
   "source": [
    "def train_epoch(model, optimizer, train_loader, criterion, device):\n",
    "    \"\"\"\n",
    "    for each batch\n",
    "    performs forward and backward pass and parameters update\n",
    "\n",
    "    Input:\n",
    "    model: instance of model (example defined above)\n",
    "    optimizer: instance of optimizer (defined above)\n",
    "    train_loader: instance of DataLoader\n",
    "\n",
    "    Returns:\n",
    "    nothing\n",
    "\n",
    "    Do not forget to set net to train mode!\n",
    "    \"\"\"\n",
    "    \n",
    "    ### your code here\n",
    "    model.train()\n",
    "    for data_inputs, data_labels in train_loader:\n",
    "        data_inputs = data_inputs.to(device)\n",
    "        data_labels = data_labels.to(device)\n",
    "        \n",
    "        prediction = model.forward(data_inputs)\n",
    "        loss = criterion(prediction, data_labels)\n",
    "        optimizer.zero_grad()\n",
    "        loss.backward()\n",
    "        optimizer.step()\n",
    "\n",
    "def evaluate_loss_acc(loader, model, criterion, device):\n",
    "    \"\"\"\n",
    "    Evaluates loss and accuracy on the whole dataset\n",
    "\n",
    "    Input:\n",
    "    loader:  instance of DataLoader\n",
    "    model: instance of model (examle defined above)\n",
    "\n",
    "    Returns:\n",
    "    (loss, accuracy)\n",
    "\n",
    "    Do not forget to set net to eval mode!\n",
    "    \"\"\"\n",
    "    model.eval()\n",
    "    data_inputs, data_labels = next(iter(loader))\n",
    "    prediction = model.forward(data_inputs)\n",
    "    loss = criterion(prediction, data_labels)\n",
    "    \n",
    "    true_preds, num_preds = 0., 0.\n",
    "\n",
    "    with torch.no_grad(): # Deactivate gradients for the following code\n",
    "        for data_inputs, data_labels in loader:\n",
    "\n",
    "            # Determine prediction of model on dev set\n",
    "            data_inputs, data_labels = data_inputs.to(device), data_labels.to(device)\n",
    "            preds = model.forward(data_inputs)\n",
    "            pred_labels = np.argmax(model(data_inputs), axis=1) \n",
    "            # Keep records of predictions for the accuracy metric (true_preds=TP+TN, num_preds=TP+TN+FP+FN)\n",
    "            true_preds += (pred_labels == data_labels).sum()\n",
    "            num_preds += data_labels.shape[0]\n",
    "\n",
    "    acc = true_preds / num_preds\n",
    "    \n",
    "    return loss, acc\n",
    "    ### your code here\n",
    "\n",
    "\n",
    "def train(model, opt, train_loader, test_loader, criterion, n_epochs,\n",
    "          device, verbose=True):\n",
    "    \"\"\"\n",
    "    Performs training of the model and prints progress\n",
    "\n",
    "    Input:\n",
    "    model: instance of model (example defined above)\n",
    "    opt: instance of optimizer\n",
    "    train_loader: instance of DataLoader\n",
    "    test_loader: instance of DataLoader (for evaluation)\n",
    "    n_epochs: int\n",
    "\n",
    "    Returns:\n",
    "    4 lists: train_log, train_acc_log, val_log, val_acc_log\n",
    "    with corresponding metrics per epoch\n",
    "    \"\"\"\n",
    "    train_log, train_acc_log = [], []\n",
    "    val_log, val_acc_log = [], []\n",
    "\n",
    "    for epoch in range(n_epochs):\n",
    "        train_epoch(model, opt, train_loader, criterion, device)\n",
    "        train_loss, train_acc = evaluate_loss_acc(train_loader,\n",
    "                                                  model, criterion,\n",
    "                                                  device)\n",
    "        val_loss, val_acc = evaluate_loss_acc(test_loader, model,\n",
    "                                              criterion, device)\n",
    "\n",
    "        train_log.append(train_loss)\n",
    "        train_acc_log.append(train_acc)\n",
    "\n",
    "        val_log.append(val_loss)\n",
    "        val_acc_log.append(val_acc)\n",
    "\n",
    "        if verbose:\n",
    "             print (('Epoch [%d/%d], Loss (train/test): %.4f/%.4f,'+\\\n",
    "               ' Acc (train/test): %.4f/%.4f' )\n",
    "                   %(epoch+1, n_epochs, \\\n",
    "                     train_loss, val_loss, train_acc, val_acc))\n",
    "\n",
    "    return train_log, train_acc_log, val_log, val_acc_log"
   ]
  },
  {
   "cell_type": "markdown",
   "metadata": {
    "id": "DIl21h4g5YqM"
   },
   "source": [
    "### <font color='red'>[TODO] Обучение модели </font>\n",
    "\n",
    "Train the neural network, using defined functions. Use Adam as an optimizer, learning_rate=0.001, number of epochs = 20. For hold out, use val_loader, not test_loader."
   ]
  },
  {
   "cell_type": "code",
   "execution_count": 16,
   "metadata": {
    "id": "g9Z-1m-45YqN"
   },
   "outputs": [
    {
     "name": "stdout",
     "output_type": "stream",
     "text": [
      "Epoch [1/20], Loss (train/test): 0.3448/0.2582, Acc (train/test): 0.8978/0.9015\n",
      "Epoch [2/20], Loss (train/test): 0.2207/0.1345, Acc (train/test): 0.9322/0.9305\n",
      "Epoch [3/20], Loss (train/test): 0.1177/0.0795, Acc (train/test): 0.9529/0.9518\n",
      "Epoch [4/20], Loss (train/test): 0.0671/0.0544, Acc (train/test): 0.9643/0.9623\n",
      "Epoch [5/20], Loss (train/test): 0.0396/0.0493, Acc (train/test): 0.9699/0.9684\n",
      "Epoch [6/20], Loss (train/test): 0.0309/0.0485, Acc (train/test): 0.9751/0.9696\n",
      "Epoch [7/20], Loss (train/test): 0.0252/0.0567, Acc (train/test): 0.9777/0.9728\n",
      "Epoch [8/20], Loss (train/test): 0.0190/0.0676, Acc (train/test): 0.9807/0.9743\n",
      "Epoch [9/20], Loss (train/test): 0.0182/0.0815, Acc (train/test): 0.9802/0.9747\n",
      "Epoch [10/20], Loss (train/test): 0.0149/0.0880, Acc (train/test): 0.9837/0.9776\n",
      "Epoch [11/20], Loss (train/test): 0.0116/0.0891, Acc (train/test): 0.9854/0.9777\n",
      "Epoch [12/20], Loss (train/test): 0.0114/0.0907, Acc (train/test): 0.9865/0.9776\n",
      "Epoch [13/20], Loss (train/test): 0.0079/0.0704, Acc (train/test): 0.9886/0.9782\n",
      "Epoch [14/20], Loss (train/test): 0.0075/0.0520, Acc (train/test): 0.9916/0.9818\n",
      "Epoch [15/20], Loss (train/test): 0.0091/0.0825, Acc (train/test): 0.9925/0.9807\n",
      "Epoch [16/20], Loss (train/test): 0.0161/0.0747, Acc (train/test): 0.9897/0.9785\n",
      "Epoch [17/20], Loss (train/test): 0.0134/0.0678, Acc (train/test): 0.9918/0.9777\n",
      "Epoch [18/20], Loss (train/test): 0.0050/0.0973, Acc (train/test): 0.9929/0.9776\n",
      "Epoch [19/20], Loss (train/test): 0.0034/0.1219, Acc (train/test): 0.9938/0.9809\n",
      "Epoch [20/20], Loss (train/test): 0.0084/0.1798, Acc (train/test): 0.9918/0.9789\n"
     ]
    },
    {
     "data": {
      "text/plain": [
       "([tensor(0.3448, grad_fn=<NllLossBackward0>),\n",
       "  tensor(0.2207, grad_fn=<NllLossBackward0>),\n",
       "  tensor(0.1177, grad_fn=<NllLossBackward0>),\n",
       "  tensor(0.0671, grad_fn=<NllLossBackward0>),\n",
       "  tensor(0.0396, grad_fn=<NllLossBackward0>),\n",
       "  tensor(0.0309, grad_fn=<NllLossBackward0>),\n",
       "  tensor(0.0252, grad_fn=<NllLossBackward0>),\n",
       "  tensor(0.0190, grad_fn=<NllLossBackward0>),\n",
       "  tensor(0.0182, grad_fn=<NllLossBackward0>),\n",
       "  tensor(0.0149, grad_fn=<NllLossBackward0>),\n",
       "  tensor(0.0116, grad_fn=<NllLossBackward0>),\n",
       "  tensor(0.0114, grad_fn=<NllLossBackward0>),\n",
       "  tensor(0.0079, grad_fn=<NllLossBackward0>),\n",
       "  tensor(0.0075, grad_fn=<NllLossBackward0>),\n",
       "  tensor(0.0091, grad_fn=<NllLossBackward0>),\n",
       "  tensor(0.0161, grad_fn=<NllLossBackward0>),\n",
       "  tensor(0.0134, grad_fn=<NllLossBackward0>),\n",
       "  tensor(0.0050, grad_fn=<NllLossBackward0>),\n",
       "  tensor(0.0034, grad_fn=<NllLossBackward0>),\n",
       "  tensor(0.0084, grad_fn=<NllLossBackward0>)],\n",
       " [tensor(0.8978),\n",
       "  tensor(0.9322),\n",
       "  tensor(0.9529),\n",
       "  tensor(0.9643),\n",
       "  tensor(0.9699),\n",
       "  tensor(0.9751),\n",
       "  tensor(0.9777),\n",
       "  tensor(0.9807),\n",
       "  tensor(0.9802),\n",
       "  tensor(0.9837),\n",
       "  tensor(0.9854),\n",
       "  tensor(0.9865),\n",
       "  tensor(0.9886),\n",
       "  tensor(0.9916),\n",
       "  tensor(0.9925),\n",
       "  tensor(0.9897),\n",
       "  tensor(0.9918),\n",
       "  tensor(0.9929),\n",
       "  tensor(0.9938),\n",
       "  tensor(0.9918)],\n",
       " [tensor(0.2582, grad_fn=<NllLossBackward0>),\n",
       "  tensor(0.1345, grad_fn=<NllLossBackward0>),\n",
       "  tensor(0.0795, grad_fn=<NllLossBackward0>),\n",
       "  tensor(0.0544, grad_fn=<NllLossBackward0>),\n",
       "  tensor(0.0493, grad_fn=<NllLossBackward0>),\n",
       "  tensor(0.0485, grad_fn=<NllLossBackward0>),\n",
       "  tensor(0.0567, grad_fn=<NllLossBackward0>),\n",
       "  tensor(0.0676, grad_fn=<NllLossBackward0>),\n",
       "  tensor(0.0815, grad_fn=<NllLossBackward0>),\n",
       "  tensor(0.0880, grad_fn=<NllLossBackward0>),\n",
       "  tensor(0.0891, grad_fn=<NllLossBackward0>),\n",
       "  tensor(0.0907, grad_fn=<NllLossBackward0>),\n",
       "  tensor(0.0704, grad_fn=<NllLossBackward0>),\n",
       "  tensor(0.0520, grad_fn=<NllLossBackward0>),\n",
       "  tensor(0.0825, grad_fn=<NllLossBackward0>),\n",
       "  tensor(0.0747, grad_fn=<NllLossBackward0>),\n",
       "  tensor(0.0678, grad_fn=<NllLossBackward0>),\n",
       "  tensor(0.0973, grad_fn=<NllLossBackward0>),\n",
       "  tensor(0.1219, grad_fn=<NllLossBackward0>),\n",
       "  tensor(0.1798, grad_fn=<NllLossBackward0>)],\n",
       " [tensor(0.9015),\n",
       "  tensor(0.9305),\n",
       "  tensor(0.9518),\n",
       "  tensor(0.9623),\n",
       "  tensor(0.9684),\n",
       "  tensor(0.9696),\n",
       "  tensor(0.9728),\n",
       "  tensor(0.9743),\n",
       "  tensor(0.9747),\n",
       "  tensor(0.9776),\n",
       "  tensor(0.9777),\n",
       "  tensor(0.9776),\n",
       "  tensor(0.9782),\n",
       "  tensor(0.9818),\n",
       "  tensor(0.9807),\n",
       "  tensor(0.9785),\n",
       "  tensor(0.9777),\n",
       "  tensor(0.9776),\n",
       "  tensor(0.9809),\n",
       "  tensor(0.9789)])"
      ]
     },
     "execution_count": 16,
     "metadata": {},
     "output_type": "execute_result"
    }
   ],
   "source": [
    "### your code here\n",
    "n_epochs = 20\n",
    "learning_rate = 0.001\n",
    "optimizer = torch.optim.Adam(cnn.parameters(), lr=learning_rate)\n",
    "cnn.to(device)\n",
    "train(cnn, optimizer, train_loader, test_loader, criterion, n_epochs, device)"
   ]
  },
  {
   "cell_type": "markdown",
   "metadata": {
    "id": "tjpBaZ7fSiP7"
   },
   "source": [
    "### <font color='red'>[TODO] Проведите эксперименты с моделью </font>"
   ]
  },
  {
   "cell_type": "markdown",
   "metadata": {
    "id": "AE5cJCEc5Yqq"
   },
   "source": [
    "\n",
    "### Choosing  learning_rate and batch_size"
   ]
  },
  {
   "cell_type": "markdown",
   "metadata": {
    "id": "Z_plUpWK5Yqq"
   },
   "source": [
    "Plot accuracy on the training and testing set v. s. training epoch for different learning parameters: learning rate$ \\in \\{0.0001, 0.001, 0.01\\}$, batch size $\\in \\{64, 256\\}$.\n",
    "\n",
    "The best option is to plot training curves on the left graph and validation curves on the right graph with the shared y axis (use plt.ylim).\n",
    "\n",
    "How do learning rate and batch size affect the final quality of the model?"
   ]
  },
  {
   "cell_type": "code",
   "execution_count": 17,
   "metadata": {
    "id": "lc5mgJmZ5Yqr"
   },
   "outputs": [
    {
     "name": "stdout",
     "output_type": "stream",
     "text": [
      "Epoch [1/20], Loss (train/test): 0.4080/0.6639, Acc (train/test): 0.8051/0.8095\n",
      "Epoch [2/20], Loss (train/test): 0.1893/0.4859, Acc (train/test): 0.8542/0.8564\n",
      "Epoch [3/20], Loss (train/test): 0.1376/0.3977, Acc (train/test): 0.8757/0.8777\n",
      "Epoch [4/20], Loss (train/test): 0.1179/0.3373, Acc (train/test): 0.8893/0.8932\n",
      "Epoch [5/20], Loss (train/test): 0.1059/0.2934, Acc (train/test): 0.9016/0.9045\n",
      "Epoch [6/20], Loss (train/test): 0.1026/0.2518, Acc (train/test): 0.9109/0.9136\n",
      "Epoch [7/20], Loss (train/test): 0.0997/0.2065, Acc (train/test): 0.9181/0.9196\n",
      "Epoch [8/20], Loss (train/test): 0.0974/0.1799, Acc (train/test): 0.9233/0.9262\n",
      "Epoch [9/20], Loss (train/test): 0.0941/0.1535, Acc (train/test): 0.9284/0.9315\n",
      "Epoch [10/20], Loss (train/test): 0.0870/0.1299, Acc (train/test): 0.9321/0.9356\n",
      "Epoch [11/20], Loss (train/test): 0.0825/0.1047, Acc (train/test): 0.9352/0.9395\n",
      "Epoch [12/20], Loss (train/test): 0.0755/0.0879, Acc (train/test): 0.9398/0.9416\n",
      "Epoch [13/20], Loss (train/test): 0.0678/0.0740, Acc (train/test): 0.9435/0.9449\n",
      "Epoch [14/20], Loss (train/test): 0.0635/0.0557, Acc (train/test): 0.9472/0.9465\n",
      "Epoch [15/20], Loss (train/test): 0.0576/0.0452, Acc (train/test): 0.9499/0.9488\n",
      "Epoch [16/20], Loss (train/test): 0.0509/0.0366, Acc (train/test): 0.9526/0.9502\n",
      "Epoch [17/20], Loss (train/test): 0.0477/0.0302, Acc (train/test): 0.9552/0.9524\n",
      "Epoch [18/20], Loss (train/test): 0.0431/0.0270, Acc (train/test): 0.9581/0.9546\n",
      "Epoch [19/20], Loss (train/test): 0.0409/0.0224, Acc (train/test): 0.9601/0.9567\n",
      "Epoch [20/20], Loss (train/test): 0.0371/0.0201, Acc (train/test): 0.9611/0.9578\n",
      "Epoch [1/20], Loss (train/test): 0.0829/0.0373, Acc (train/test): 0.9235/0.9259\n",
      "Epoch [2/20], Loss (train/test): 0.0345/0.0087, Acc (train/test): 0.9580/0.9559\n",
      "Epoch [3/20], Loss (train/test): 0.0112/0.0085, Acc (train/test): 0.9714/0.9705\n",
      "Epoch [4/20], Loss (train/test): 0.0071/0.0108, Acc (train/test): 0.9777/0.9737\n",
      "Epoch [5/20], Loss (train/test): 0.0042/0.0124, Acc (train/test): 0.9829/0.9771\n",
      "Epoch [6/20], Loss (train/test): 0.0030/0.0195, Acc (train/test): 0.9831/0.9771\n",
      "Epoch [7/20], Loss (train/test): 0.0032/0.0221, Acc (train/test): 0.9871/0.9790\n",
      "Epoch [8/20], Loss (train/test): 0.0027/0.1070, Acc (train/test): 0.9893/0.9806\n",
      "Epoch [9/20], Loss (train/test): 0.0016/0.0833, Acc (train/test): 0.9895/0.9784\n",
      "Epoch [10/20], Loss (train/test): 0.0014/0.2567, Acc (train/test): 0.9915/0.9812\n",
      "Epoch [11/20], Loss (train/test): 0.0008/0.1230, Acc (train/test): 0.9933/0.9798\n",
      "Epoch [12/20], Loss (train/test): 0.0038/0.2708, Acc (train/test): 0.9938/0.9795\n",
      "Epoch [13/20], Loss (train/test): 0.0007/0.1803, Acc (train/test): 0.9943/0.9815\n",
      "Epoch [14/20], Loss (train/test): 0.0040/0.3575, Acc (train/test): 0.9958/0.9816\n",
      "Epoch [15/20], Loss (train/test): 0.0006/0.4934, Acc (train/test): 0.9913/0.9774\n",
      "Epoch [16/20], Loss (train/test): 0.0009/0.3746, Acc (train/test): 0.9873/0.9760\n",
      "Epoch [17/20], Loss (train/test): 0.0947/0.5537, Acc (train/test): 0.9953/0.9822\n",
      "Epoch [18/20], Loss (train/test): 0.0003/0.5196, Acc (train/test): 0.9968/0.9831\n",
      "Epoch [19/20], Loss (train/test): 0.0002/0.5379, Acc (train/test): 0.9941/0.9783\n",
      "Epoch [20/20], Loss (train/test): 0.0004/0.6286, Acc (train/test): 0.9938/0.9797\n",
      "Epoch [1/20], Loss (train/test): 0.0044/0.0095, Acc (train/test): 0.9628/0.9617\n",
      "Epoch [2/20], Loss (train/test): 0.0011/0.0384, Acc (train/test): 0.9699/0.9651\n",
      "Epoch [3/20], Loss (train/test): 0.0020/0.0079, Acc (train/test): 0.9791/0.9739\n",
      "Epoch [4/20], Loss (train/test): 0.0047/0.0077, Acc (train/test): 0.9803/0.9748\n",
      "Epoch [5/20], Loss (train/test): 0.0021/0.0010, Acc (train/test): 0.9687/0.9639\n",
      "Epoch [6/20], Loss (train/test): 0.0010/0.0183, Acc (train/test): 0.9796/0.9699\n",
      "Epoch [7/20], Loss (train/test): 0.0021/0.0297, Acc (train/test): 0.9838/0.9743\n",
      "Epoch [8/20], Loss (train/test): 0.0009/0.0010, Acc (train/test): 0.9836/0.9726\n",
      "Epoch [9/20], Loss (train/test): 0.0000/0.0080, Acc (train/test): 0.9835/0.9711\n",
      "Epoch [10/20], Loss (train/test): 0.0000/0.4445, Acc (train/test): 0.9865/0.9776\n",
      "Epoch [11/20], Loss (train/test): 0.0000/0.0012, Acc (train/test): 0.9904/0.9769\n",
      "Epoch [12/20], Loss (train/test): 0.0040/0.0005, Acc (train/test): 0.9869/0.9724\n",
      "Epoch [13/20], Loss (train/test): 0.0164/0.0020, Acc (train/test): 0.9895/0.9757\n",
      "Epoch [14/20], Loss (train/test): 0.0001/0.0002, Acc (train/test): 0.9860/0.9713\n",
      "Epoch [15/20], Loss (train/test): 0.0000/0.1367, Acc (train/test): 0.9906/0.9738\n",
      "Epoch [16/20], Loss (train/test): 0.0000/0.0638, Acc (train/test): 0.9887/0.9736\n",
      "Epoch [17/20], Loss (train/test): 0.0034/0.0223, Acc (train/test): 0.9914/0.9762\n",
      "Epoch [18/20], Loss (train/test): 0.0498/0.0124, Acc (train/test): 0.9913/0.9744\n",
      "Epoch [19/20], Loss (train/test): 0.0001/0.0019, Acc (train/test): 0.9909/0.9759\n",
      "Epoch [20/20], Loss (train/test): 0.0002/0.1830, Acc (train/test): 0.9895/0.9736\n",
      "Epoch [1/20], Loss (train/test): 2.2830/2.2907, Acc (train/test): 0.1237/0.1234\n",
      "Epoch [2/20], Loss (train/test): 2.1276/2.1536, Acc (train/test): 0.4832/0.4880\n",
      "Epoch [3/20], Loss (train/test): 1.5631/1.6363, Acc (train/test): 0.6203/0.6279\n",
      "Epoch [4/20], Loss (train/test): 0.9984/1.0755, Acc (train/test): 0.7289/0.7374\n",
      "Epoch [5/20], Loss (train/test): 0.7422/0.8003, Acc (train/test): 0.7840/0.7844\n",
      "Epoch [6/20], Loss (train/test): 0.6338/0.6657, Acc (train/test): 0.8131/0.8142\n",
      "Epoch [7/20], Loss (train/test): 0.5786/0.5879, Acc (train/test): 0.8325/0.8357\n",
      "Epoch [8/20], Loss (train/test): 0.5413/0.5363, Acc (train/test): 0.8439/0.8470\n",
      "Epoch [9/20], Loss (train/test): 0.5124/0.4992, Acc (train/test): 0.8526/0.8582\n",
      "Epoch [10/20], Loss (train/test): 0.4879/0.4707, Acc (train/test): 0.8601/0.8665\n",
      "Epoch [11/20], Loss (train/test): 0.4669/0.4470, Acc (train/test): 0.8651/0.8733\n",
      "Epoch [12/20], Loss (train/test): 0.4477/0.4269, Acc (train/test): 0.8708/0.8793\n",
      "Epoch [13/20], Loss (train/test): 0.4308/0.4094, Acc (train/test): 0.8748/0.8836\n",
      "Epoch [14/20], Loss (train/test): 0.4157/0.3939, Acc (train/test): 0.8796/0.8867\n",
      "Epoch [15/20], Loss (train/test): 0.4019/0.3795, Acc (train/test): 0.8845/0.8903\n",
      "Epoch [16/20], Loss (train/test): 0.3894/0.3663, Acc (train/test): 0.8884/0.8931\n",
      "Epoch [17/20], Loss (train/test): 0.3773/0.3538, Acc (train/test): 0.8917/0.8959\n",
      "Epoch [18/20], Loss (train/test): 0.3657/0.3407, Acc (train/test): 0.8959/0.8985\n",
      "Epoch [19/20], Loss (train/test): 0.3547/0.3279, Acc (train/test): 0.8987/0.9015\n",
      "Epoch [20/20], Loss (train/test): 0.3446/0.3150, Acc (train/test): 0.9019/0.9036\n",
      "Epoch [1/20], Loss (train/test): 0.6480/0.6912, Acc (train/test): 0.7809/0.7837\n",
      "Epoch [2/20], Loss (train/test): 0.4531/0.4184, Acc (train/test): 0.8641/0.8671\n",
      "Epoch [3/20], Loss (train/test): 0.3792/0.3313, Acc (train/test): 0.8871/0.8928\n",
      "Epoch [4/20], Loss (train/test): 0.3241/0.2738, Acc (train/test): 0.9043/0.9070\n",
      "Epoch [5/20], Loss (train/test): 0.2823/0.2244, Acc (train/test): 0.9161/0.9168\n",
      "Epoch [6/20], Loss (train/test): 0.2422/0.1807, Acc (train/test): 0.9278/0.9277\n",
      "Epoch [7/20], Loss (train/test): 0.2084/0.1439, Acc (train/test): 0.9376/0.9366\n",
      "Epoch [8/20], Loss (train/test): 0.1778/0.1154, Acc (train/test): 0.9468/0.9460\n",
      "Epoch [9/20], Loss (train/test): 0.1578/0.0938, Acc (train/test): 0.9535/0.9530\n",
      "Epoch [10/20], Loss (train/test): 0.1470/0.0821, Acc (train/test): 0.9567/0.9556\n",
      "Epoch [11/20], Loss (train/test): 0.1264/0.0701, Acc (train/test): 0.9614/0.9590\n",
      "Epoch [12/20], Loss (train/test): 0.1049/0.0591, Acc (train/test): 0.9665/0.9629\n",
      "Epoch [13/20], Loss (train/test): 0.0860/0.0514, Acc (train/test): 0.9691/0.9665\n",
      "Epoch [14/20], Loss (train/test): 0.0732/0.0447, Acc (train/test): 0.9709/0.9678\n",
      "Epoch [15/20], Loss (train/test): 0.0671/0.0402, Acc (train/test): 0.9727/0.9687\n",
      "Epoch [16/20], Loss (train/test): 0.0568/0.0326, Acc (train/test): 0.9749/0.9705\n",
      "Epoch [17/20], Loss (train/test): 0.0494/0.0285, Acc (train/test): 0.9762/0.9716\n",
      "Epoch [18/20], Loss (train/test): 0.0426/0.0253, Acc (train/test): 0.9780/0.9729\n",
      "Epoch [19/20], Loss (train/test): 0.0383/0.0235, Acc (train/test): 0.9807/0.9743\n",
      "Epoch [20/20], Loss (train/test): 0.0355/0.0230, Acc (train/test): 0.9829/0.9747\n",
      "Epoch [1/20], Loss (train/test): 0.1532/0.1194, Acc (train/test): 0.9401/0.9421\n",
      "Epoch [2/20], Loss (train/test): 0.0903/0.0585, Acc (train/test): 0.9717/0.9690\n"
     ]
    },
    {
     "name": "stdout",
     "output_type": "stream",
     "text": [
      "Epoch [3/20], Loss (train/test): 0.0760/0.0394, Acc (train/test): 0.9763/0.9747\n",
      "Epoch [4/20], Loss (train/test): 0.0508/0.0403, Acc (train/test): 0.9830/0.9768\n",
      "Epoch [5/20], Loss (train/test): 0.0568/0.0607, Acc (train/test): 0.9855/0.9773\n",
      "Epoch [6/20], Loss (train/test): 0.0347/0.0368, Acc (train/test): 0.9881/0.9788\n",
      "Epoch [7/20], Loss (train/test): 0.0177/0.0679, Acc (train/test): 0.9832/0.9703\n",
      "Epoch [8/20], Loss (train/test): 0.0290/0.0417, Acc (train/test): 0.9867/0.9741\n",
      "Epoch [9/20], Loss (train/test): 0.0181/0.0468, Acc (train/test): 0.9865/0.9717\n",
      "Epoch [10/20], Loss (train/test): 0.0357/0.0828, Acc (train/test): 0.9761/0.9663\n",
      "Epoch [11/20], Loss (train/test): 0.0239/0.0627, Acc (train/test): 0.9843/0.9748\n",
      "Epoch [12/20], Loss (train/test): 0.0012/0.0214, Acc (train/test): 0.9947/0.9810\n",
      "Epoch [13/20], Loss (train/test): 0.0051/0.0225, Acc (train/test): 0.9946/0.9806\n",
      "Epoch [14/20], Loss (train/test): 0.0024/0.0218, Acc (train/test): 0.9952/0.9808\n",
      "Epoch [15/20], Loss (train/test): 0.0108/0.0324, Acc (train/test): 0.9949/0.9809\n",
      "Epoch [16/20], Loss (train/test): 0.0017/0.0680, Acc (train/test): 0.9934/0.9779\n",
      "Epoch [17/20], Loss (train/test): 0.0102/0.0489, Acc (train/test): 0.9943/0.9797\n",
      "Epoch [18/20], Loss (train/test): 0.0056/0.0278, Acc (train/test): 0.9960/0.9822\n",
      "Epoch [19/20], Loss (train/test): 0.0189/0.0158, Acc (train/test): 0.9949/0.9813\n",
      "Epoch [20/20], Loss (train/test): 0.0061/0.0330, Acc (train/test): 0.9949/0.9795\n"
     ]
    }
   ],
   "source": [
    "n_epochs = 20\n",
    "lr_list = [0.0001, 0.001, 0.01]\n",
    "batch_size_list = [24, 256]\n",
    "ans = []\n",
    "for bs in batch_size_list:\n",
    "    ans_i = []\n",
    "    train_loader_full = get_loader(X_train, y_train, bs)\n",
    "    test_loader = get_loader(X_test, y_test, bs)\n",
    "    # for validation purposes:\n",
    "    train_loader = get_loader(X_train[:15000], y_train[:15000], bs)\n",
    "    val_loader = get_loader(X_train[15000:30000], y_train[15000:30000], bs)\n",
    "    for lri in lr_list:\n",
    "        cnn = CNN()\n",
    "        cnn = cnn.to(device)\n",
    "        \n",
    "        optimizer = torch.optim.Adam(cnn.parameters(), lr = lri)\n",
    "        cnn.to(device)\n",
    "        ans_i += [train(cnn, optimizer, train_loader, test_loader, criterion, n_epochs, device)]\n",
    "    ans += [ans_i]"
   ]
  },
  {
   "cell_type": "code",
   "execution_count": 18,
   "metadata": {},
   "outputs": [
    {
     "data": {
      "image/png": "[encoded data removed]",
      "text/plain": [
       "<Figure size 1500x480 with 2 Axes>"
      ]
     },
     "metadata": {},
     "output_type": "display_data"
    },
    {
     "data": {
      "image/png": "[encoded data removed]",
      "text/plain": [
       "<Figure size 1500x480 with 2 Axes>"
      ]
     },
     "metadata": {},
     "output_type": "display_data"
    },
    {
     "data": {
      "image/png": "[encoded data removed]",
      "text/plain": [
       "<Figure size 1500x480 with 2 Axes>"
      ]
     },
     "metadata": {},
     "output_type": "display_data"
    },
    {
     "data": {
      "image/png": "[encoded data removed]",
      "text/plain": [
       "<Figure size 1500x480 with 2 Axes>"
      ]
     },
     "metadata": {},
     "output_type": "display_data"
    },
    {
     "data": {
      "image/png": "[encoded data removed]",
      "text/plain": [
       "<Figure size 1500x480 with 2 Axes>"
      ]
     },
     "metadata": {},
     "output_type": "display_data"
    },
    {
     "data": {
      "image/png": "[encoded data removed]",
      "text/plain": [
       "<Figure size 1500x480 with 2 Axes>"
      ]
     },
     "metadata": {},
     "output_type": "display_data"
    }
   ],
   "source": [
    "\n",
    "for i in range(0, len(batch_size_list)):\n",
    "    for j in range(0,len(lr_list)):\n",
    "        fig, (ax1, ax2) = plt.subplots(ncols=2, sharey=True)\n",
    "        \n",
    "        fig.set_figwidth(15) \n",
    "        x = np.linspace(1, n_epochs + 1, n_epochs)\n",
    "        ax1.plot(x,ans[i][j][1], label = 'train curve for lr = ' + str(lr_list[j]) +' batch size = ' + str(batch_size_list[i]))\n",
    "        \n",
    "        ax1.legend()\n",
    "        ax2.plot(x,ans[i][j][3], label = 'val curve for lr = ' + str(lr_list[j]) +' batch size = ' + str(batch_size_list[i]))\n",
    "        ax2.legend()\n",
    "        plt.show()\n",
    "        "
   ]
  },
  {
   "cell_type": "markdown",
   "metadata": {},
   "source": [
    "При увелечении lr оптимизатор начинает пропускать минимумы и сходится довольно неравномерно, также видно, что он начинает переобучаться. При увелечении batch_size эффект переобучения и нарушения сходимости наблюдается при большем значении lr, при этом функционал сходится быстрее, хотя на одну эпоху и требуется больше вычислений"
   ]
  },
  {
   "cell_type": "markdown",
   "metadata": {
    "id": "oEG3Nu9w5Yqs"
   },
   "source": [
    "### Changing the architecture"
   ]
  },
  {
   "cell_type": "markdown",
   "metadata": {
    "id": "IqMV5M1j5Yqs"
   },
   "source": [
    "Try to modify our architecture: increase the number of filters and to reduce the number of fully-connected layers.\n",
    "\n",
    "Insert numbers in the brackets:\n",
    "* LeNet-5 classic (6 and 16 convolutions):  training acc: (0.9876)  validation acc: (0.9717)\n",
    "* Number of convolutions x 4 (24 и 64 convolutions):  training acc: (0.9965)  validation acc: (0.9811)\n",
    "* Removing fully connected layer: the previous network with 1 FC layer: training acc: ( 0.9916)  validation acc: (0.9812)\n",
    "    \n",
    "    "
   ]
  },
  {
   "cell_type": "markdown",
   "metadata": {},
   "source": [
    "#### Classic "
   ]
  },
  {
   "cell_type": "code",
   "execution_count": 19,
   "metadata": {},
   "outputs": [],
   "source": [
    "k = 1\n",
    "class CNN(nn.Module):\n",
    "    def __init__(self):\n",
    "        super(CNN, self).__init__( )\n",
    "        ### your code here: define layers\n",
    "        #First convolution layer\n",
    "        self.conv1 = nn.Sequential(\n",
    "            nn.Conv2d(in_channels=1, out_channels=6 * k, kernel_size=5, stride=1),\n",
    "            nn.ReLU(),\n",
    "            nn.AvgPool2d(kernel_size=2)\n",
    "        )\n",
    "        #Second convolution layer\n",
    "        self.conv2 = nn.Sequential(\n",
    "            nn.Conv2d(in_channels=6 * k, out_channels=16 * k, kernel_size=5, stride=1),\n",
    "            nn.ReLU(),\n",
    "            nn.AvgPool2d(kernel_size=2)\n",
    "        )\n",
    "        #First linear layer\n",
    "        self.fc1 = nn.Sequential(\n",
    "            nn.Linear(in_features=4 * 4 * 16 * k, out_features=120),\n",
    "            nn.ReLU()\n",
    "        )\n",
    "        #Second linear layer\n",
    "        self.fc2 = nn.Sequential(\n",
    "            nn.Linear(in_features=120, out_features=84),\n",
    "            nn.ReLU()\n",
    "        )\n",
    "        #Gauss layer\n",
    "        self.fc3 = nn.Sequential(\n",
    "            nn.Linear(in_features=84, out_features=10)\n",
    "        )\n",
    "    def forward(self, x):\n",
    "        conv1_output = self.conv1(x)  \n",
    "        conv2_output = self.conv2(conv1_output)  \n",
    "        conv2_output = conv2_output.view(-1, 4*4*16*k) #fast reshape \n",
    "        fc1_output = self.fc1(conv2_output)\n",
    "        fc2_output = self.fc2(fc1_output)\n",
    "        fc3_output = self.fc3(fc2_output)\n",
    "        return fc3_output\n",
    "        ### your code here: transform x using layers\n"
   ]
  },
  {
   "cell_type": "code",
   "execution_count": 20,
   "metadata": {},
   "outputs": [
    {
     "name": "stdout",
     "output_type": "stream",
     "text": [
      "Epoch [1/50], Loss (train/test): 0.6883/0.6878, Acc (train/test): 0.7711/0.7767\n",
      "Epoch [2/50], Loss (train/test): 0.4384/0.4338, Acc (train/test): 0.8627/0.8639\n",
      "Epoch [3/50], Loss (train/test): 0.3714/0.3527, Acc (train/test): 0.8846/0.8908\n",
      "Epoch [4/50], Loss (train/test): 0.3040/0.2805, Acc (train/test): 0.9027/0.9064\n",
      "Epoch [5/50], Loss (train/test): 0.2529/0.2256, Acc (train/test): 0.9153/0.9168\n",
      "Epoch [6/50], Loss (train/test): 0.2166/0.1824, Acc (train/test): 0.9282/0.9308\n",
      "Epoch [7/50], Loss (train/test): 0.1952/0.1550, Acc (train/test): 0.9333/0.9360\n",
      "Epoch [8/50], Loss (train/test): 0.1671/0.1308, Acc (train/test): 0.9401/0.9436\n",
      "Epoch [9/50], Loss (train/test): 0.1505/0.1106, Acc (train/test): 0.9467/0.9492\n",
      "Epoch [10/50], Loss (train/test): 0.1313/0.0957, Acc (train/test): 0.9513/0.9522\n",
      "Epoch [11/50], Loss (train/test): 0.1143/0.0817, Acc (train/test): 0.9562/0.9556\n",
      "Epoch [12/50], Loss (train/test): 0.1092/0.0725, Acc (train/test): 0.9589/0.9576\n",
      "Epoch [13/50], Loss (train/test): 0.1037/0.0634, Acc (train/test): 0.9617/0.9586\n",
      "Epoch [14/50], Loss (train/test): 0.0927/0.0557, Acc (train/test): 0.9647/0.9598\n",
      "Epoch [15/50], Loss (train/test): 0.0900/0.0503, Acc (train/test): 0.9665/0.9611\n",
      "Epoch [16/50], Loss (train/test): 0.0864/0.0491, Acc (train/test): 0.9681/0.9621\n",
      "Epoch [17/50], Loss (train/test): 0.0814/0.0470, Acc (train/test): 0.9693/0.9644\n",
      "Epoch [18/50], Loss (train/test): 0.0759/0.0449, Acc (train/test): 0.9700/0.9646\n",
      "Epoch [19/50], Loss (train/test): 0.0716/0.0425, Acc (train/test): 0.9729/0.9666\n",
      "Epoch [20/50], Loss (train/test): 0.0682/0.0426, Acc (train/test): 0.9746/0.9663\n",
      "Epoch [21/50], Loss (train/test): 0.0645/0.0425, Acc (train/test): 0.9755/0.9675\n",
      "Epoch [22/50], Loss (train/test): 0.0628/0.0418, Acc (train/test): 0.9765/0.9677\n",
      "Epoch [23/50], Loss (train/test): 0.0600/0.0410, Acc (train/test): 0.9774/0.9677\n",
      "Epoch [24/50], Loss (train/test): 0.0594/0.0406, Acc (train/test): 0.9775/0.9676\n",
      "Epoch [25/50], Loss (train/test): 0.0549/0.0408, Acc (train/test): 0.9776/0.9692\n",
      "Epoch [26/50], Loss (train/test): 0.0463/0.0450, Acc (train/test): 0.9783/0.9686\n",
      "Epoch [27/50], Loss (train/test): 0.0361/0.0446, Acc (train/test): 0.9822/0.9719\n",
      "Epoch [28/50], Loss (train/test): 0.0308/0.0456, Acc (train/test): 0.9833/0.9717\n",
      "Epoch [29/50], Loss (train/test): 0.0284/0.0429, Acc (train/test): 0.9879/0.9740\n",
      "Epoch [30/50], Loss (train/test): 0.0237/0.0352, Acc (train/test): 0.9898/0.9746\n",
      "Epoch [31/50], Loss (train/test): 0.0213/0.0350, Acc (train/test): 0.9913/0.9746\n",
      "Epoch [32/50], Loss (train/test): 0.0247/0.0429, Acc (train/test): 0.9909/0.9746\n",
      "Epoch [33/50], Loss (train/test): 0.0283/0.0472, Acc (train/test): 0.9910/0.9736\n",
      "Epoch [34/50], Loss (train/test): 0.0266/0.0576, Acc (train/test): 0.9915/0.9751\n",
      "Epoch [35/50], Loss (train/test): 0.0203/0.0574, Acc (train/test): 0.9925/0.9754\n",
      "Epoch [36/50], Loss (train/test): 0.0165/0.0592, Acc (train/test): 0.9917/0.9755\n",
      "Epoch [37/50], Loss (train/test): 0.0156/0.0655, Acc (train/test): 0.9913/0.9744\n",
      "Epoch [38/50], Loss (train/test): 0.0190/0.0665, Acc (train/test): 0.9898/0.9734\n",
      "Epoch [39/50], Loss (train/test): 0.0132/0.0734, Acc (train/test): 0.9917/0.9728\n",
      "Epoch [40/50], Loss (train/test): 0.0096/0.0761, Acc (train/test): 0.9905/0.9734\n",
      "Epoch [41/50], Loss (train/test): 0.0075/0.0729, Acc (train/test): 0.9878/0.9719\n",
      "Epoch [42/50], Loss (train/test): 0.0159/0.0560, Acc (train/test): 0.9923/0.9749\n",
      "Epoch [43/50], Loss (train/test): 0.0120/0.0605, Acc (train/test): 0.9906/0.9754\n",
      "Epoch [44/50], Loss (train/test): 0.0088/0.0688, Acc (train/test): 0.9923/0.9764\n",
      "Epoch [45/50], Loss (train/test): 0.0045/0.0539, Acc (train/test): 0.9951/0.9755\n",
      "Epoch [46/50], Loss (train/test): 0.0105/0.0440, Acc (train/test): 0.9917/0.9745\n",
      "Epoch [47/50], Loss (train/test): 0.0146/0.0625, Acc (train/test): 0.9913/0.9737\n",
      "Epoch [48/50], Loss (train/test): 0.0284/0.0501, Acc (train/test): 0.9852/0.9709\n",
      "Epoch [49/50], Loss (train/test): 0.0164/0.0914, Acc (train/test): 0.9895/0.9705\n",
      "Epoch [50/50], Loss (train/test): 0.0153/0.1014, Acc (train/test): 0.9876/0.9717\n"
     ]
    },
    {
     "data": {
      "text/plain": [
       "([tensor(0.6883, grad_fn=<NllLossBackward0>),\n",
       "  tensor(0.4384, grad_fn=<NllLossBackward0>),\n",
       "  tensor(0.3714, grad_fn=<NllLossBackward0>),\n",
       "  tensor(0.3040, grad_fn=<NllLossBackward0>),\n",
       "  tensor(0.2529, grad_fn=<NllLossBackward0>),\n",
       "  tensor(0.2166, grad_fn=<NllLossBackward0>),\n",
       "  tensor(0.1952, grad_fn=<NllLossBackward0>),\n",
       "  tensor(0.1671, grad_fn=<NllLossBackward0>),\n",
       "  tensor(0.1505, grad_fn=<NllLossBackward0>),\n",
       "  tensor(0.1313, grad_fn=<NllLossBackward0>),\n",
       "  tensor(0.1143, grad_fn=<NllLossBackward0>),\n",
       "  tensor(0.1092, grad_fn=<NllLossBackward0>),\n",
       "  tensor(0.1037, grad_fn=<NllLossBackward0>),\n",
       "  tensor(0.0927, grad_fn=<NllLossBackward0>),\n",
       "  tensor(0.0900, grad_fn=<NllLossBackward0>),\n",
       "  tensor(0.0864, grad_fn=<NllLossBackward0>),\n",
       "  tensor(0.0814, grad_fn=<NllLossBackward0>),\n",
       "  tensor(0.0759, grad_fn=<NllLossBackward0>),\n",
       "  tensor(0.0716, grad_fn=<NllLossBackward0>),\n",
       "  tensor(0.0682, grad_fn=<NllLossBackward0>),\n",
       "  tensor(0.0645, grad_fn=<NllLossBackward0>),\n",
       "  tensor(0.0628, grad_fn=<NllLossBackward0>),\n",
       "  tensor(0.0600, grad_fn=<NllLossBackward0>),\n",
       "  tensor(0.0594, grad_fn=<NllLossBackward0>),\n",
       "  tensor(0.0549, grad_fn=<NllLossBackward0>),\n",
       "  tensor(0.0463, grad_fn=<NllLossBackward0>),\n",
       "  tensor(0.0361, grad_fn=<NllLossBackward0>),\n",
       "  tensor(0.0308, grad_fn=<NllLossBackward0>),\n",
       "  tensor(0.0284, grad_fn=<NllLossBackward0>),\n",
       "  tensor(0.0237, grad_fn=<NllLossBackward0>),\n",
       "  tensor(0.0213, grad_fn=<NllLossBackward0>),\n",
       "  tensor(0.0247, grad_fn=<NllLossBackward0>),\n",
       "  tensor(0.0283, grad_fn=<NllLossBackward0>),\n",
       "  tensor(0.0266, grad_fn=<NllLossBackward0>),\n",
       "  tensor(0.0203, grad_fn=<NllLossBackward0>),\n",
       "  tensor(0.0165, grad_fn=<NllLossBackward0>),\n",
       "  tensor(0.0156, grad_fn=<NllLossBackward0>),\n",
       "  tensor(0.0190, grad_fn=<NllLossBackward0>),\n",
       "  tensor(0.0132, grad_fn=<NllLossBackward0>),\n",
       "  tensor(0.0096, grad_fn=<NllLossBackward0>),\n",
       "  tensor(0.0075, grad_fn=<NllLossBackward0>),\n",
       "  tensor(0.0159, grad_fn=<NllLossBackward0>),\n",
       "  tensor(0.0120, grad_fn=<NllLossBackward0>),\n",
       "  tensor(0.0088, grad_fn=<NllLossBackward0>),\n",
       "  tensor(0.0045, grad_fn=<NllLossBackward0>),\n",
       "  tensor(0.0105, grad_fn=<NllLossBackward0>),\n",
       "  tensor(0.0146, grad_fn=<NllLossBackward0>),\n",
       "  tensor(0.0284, grad_fn=<NllLossBackward0>),\n",
       "  tensor(0.0164, grad_fn=<NllLossBackward0>),\n",
       "  tensor(0.0153, grad_fn=<NllLossBackward0>)],\n",
       " [tensor(0.7711),\n",
       "  tensor(0.8627),\n",
       "  tensor(0.8846),\n",
       "  tensor(0.9027),\n",
       "  tensor(0.9153),\n",
       "  tensor(0.9282),\n",
       "  tensor(0.9333),\n",
       "  tensor(0.9401),\n",
       "  tensor(0.9467),\n",
       "  tensor(0.9513),\n",
       "  tensor(0.9562),\n",
       "  tensor(0.9589),\n",
       "  tensor(0.9617),\n",
       "  tensor(0.9647),\n",
       "  tensor(0.9665),\n",
       "  tensor(0.9681),\n",
       "  tensor(0.9693),\n",
       "  tensor(0.9700),\n",
       "  tensor(0.9729),\n",
       "  tensor(0.9746),\n",
       "  tensor(0.9755),\n",
       "  tensor(0.9765),\n",
       "  tensor(0.9774),\n",
       "  tensor(0.9775),\n",
       "  tensor(0.9776),\n",
       "  tensor(0.9783),\n",
       "  tensor(0.9822),\n",
       "  tensor(0.9833),\n",
       "  tensor(0.9879),\n",
       "  tensor(0.9898),\n",
       "  tensor(0.9913),\n",
       "  tensor(0.9909),\n",
       "  tensor(0.9910),\n",
       "  tensor(0.9915),\n",
       "  tensor(0.9925),\n",
       "  tensor(0.9917),\n",
       "  tensor(0.9913),\n",
       "  tensor(0.9898),\n",
       "  tensor(0.9917),\n",
       "  tensor(0.9905),\n",
       "  tensor(0.9878),\n",
       "  tensor(0.9923),\n",
       "  tensor(0.9906),\n",
       "  tensor(0.9923),\n",
       "  tensor(0.9951),\n",
       "  tensor(0.9917),\n",
       "  tensor(0.9913),\n",
       "  tensor(0.9852),\n",
       "  tensor(0.9895),\n",
       "  tensor(0.9876)],\n",
       " [tensor(0.6878, grad_fn=<NllLossBackward0>),\n",
       "  tensor(0.4338, grad_fn=<NllLossBackward0>),\n",
       "  tensor(0.3527, grad_fn=<NllLossBackward0>),\n",
       "  tensor(0.2805, grad_fn=<NllLossBackward0>),\n",
       "  tensor(0.2256, grad_fn=<NllLossBackward0>),\n",
       "  tensor(0.1824, grad_fn=<NllLossBackward0>),\n",
       "  tensor(0.1550, grad_fn=<NllLossBackward0>),\n",
       "  tensor(0.1308, grad_fn=<NllLossBackward0>),\n",
       "  tensor(0.1106, grad_fn=<NllLossBackward0>),\n",
       "  tensor(0.0957, grad_fn=<NllLossBackward0>),\n",
       "  tensor(0.0817, grad_fn=<NllLossBackward0>),\n",
       "  tensor(0.0725, grad_fn=<NllLossBackward0>),\n",
       "  tensor(0.0634, grad_fn=<NllLossBackward0>),\n",
       "  tensor(0.0557, grad_fn=<NllLossBackward0>),\n",
       "  tensor(0.0503, grad_fn=<NllLossBackward0>),\n",
       "  tensor(0.0491, grad_fn=<NllLossBackward0>),\n",
       "  tensor(0.0470, grad_fn=<NllLossBackward0>),\n",
       "  tensor(0.0449, grad_fn=<NllLossBackward0>),\n",
       "  tensor(0.0425, grad_fn=<NllLossBackward0>),\n",
       "  tensor(0.0426, grad_fn=<NllLossBackward0>),\n",
       "  tensor(0.0425, grad_fn=<NllLossBackward0>),\n",
       "  tensor(0.0418, grad_fn=<NllLossBackward0>),\n",
       "  tensor(0.0410, grad_fn=<NllLossBackward0>),\n",
       "  tensor(0.0406, grad_fn=<NllLossBackward0>),\n",
       "  tensor(0.0408, grad_fn=<NllLossBackward0>),\n",
       "  tensor(0.0450, grad_fn=<NllLossBackward0>),\n",
       "  tensor(0.0446, grad_fn=<NllLossBackward0>),\n",
       "  tensor(0.0456, grad_fn=<NllLossBackward0>),\n",
       "  tensor(0.0429, grad_fn=<NllLossBackward0>),\n",
       "  tensor(0.0352, grad_fn=<NllLossBackward0>),\n",
       "  tensor(0.0350, grad_fn=<NllLossBackward0>),\n",
       "  tensor(0.0429, grad_fn=<NllLossBackward0>),\n",
       "  tensor(0.0472, grad_fn=<NllLossBackward0>),\n",
       "  tensor(0.0576, grad_fn=<NllLossBackward0>),\n",
       "  tensor(0.0574, grad_fn=<NllLossBackward0>),\n",
       "  tensor(0.0592, grad_fn=<NllLossBackward0>),\n",
       "  tensor(0.0655, grad_fn=<NllLossBackward0>),\n",
       "  tensor(0.0665, grad_fn=<NllLossBackward0>),\n",
       "  tensor(0.0734, grad_fn=<NllLossBackward0>),\n",
       "  tensor(0.0761, grad_fn=<NllLossBackward0>),\n",
       "  tensor(0.0729, grad_fn=<NllLossBackward0>),\n",
       "  tensor(0.0560, grad_fn=<NllLossBackward0>),\n",
       "  tensor(0.0605, grad_fn=<NllLossBackward0>),\n",
       "  tensor(0.0688, grad_fn=<NllLossBackward0>),\n",
       "  tensor(0.0539, grad_fn=<NllLossBackward0>),\n",
       "  tensor(0.0440, grad_fn=<NllLossBackward0>),\n",
       "  tensor(0.0625, grad_fn=<NllLossBackward0>),\n",
       "  tensor(0.0501, grad_fn=<NllLossBackward0>),\n",
       "  tensor(0.0914, grad_fn=<NllLossBackward0>),\n",
       "  tensor(0.1014, grad_fn=<NllLossBackward0>)],\n",
       " [tensor(0.7767),\n",
       "  tensor(0.8639),\n",
       "  tensor(0.8908),\n",
       "  tensor(0.9064),\n",
       "  tensor(0.9168),\n",
       "  tensor(0.9308),\n",
       "  tensor(0.9360),\n",
       "  tensor(0.9436),\n",
       "  tensor(0.9492),\n",
       "  tensor(0.9522),\n",
       "  tensor(0.9556),\n",
       "  tensor(0.9576),\n",
       "  tensor(0.9586),\n",
       "  tensor(0.9598),\n",
       "  tensor(0.9611),\n",
       "  tensor(0.9621),\n",
       "  tensor(0.9644),\n",
       "  tensor(0.9646),\n",
       "  tensor(0.9666),\n",
       "  tensor(0.9663),\n",
       "  tensor(0.9675),\n",
       "  tensor(0.9677),\n",
       "  tensor(0.9677),\n",
       "  tensor(0.9676),\n",
       "  tensor(0.9692),\n",
       "  tensor(0.9686),\n",
       "  tensor(0.9719),\n",
       "  tensor(0.9717),\n",
       "  tensor(0.9740),\n",
       "  tensor(0.9746),\n",
       "  tensor(0.9746),\n",
       "  tensor(0.9746),\n",
       "  tensor(0.9736),\n",
       "  tensor(0.9751),\n",
       "  tensor(0.9754),\n",
       "  tensor(0.9755),\n",
       "  tensor(0.9744),\n",
       "  tensor(0.9734),\n",
       "  tensor(0.9728),\n",
       "  tensor(0.9734),\n",
       "  tensor(0.9719),\n",
       "  tensor(0.9749),\n",
       "  tensor(0.9754),\n",
       "  tensor(0.9764),\n",
       "  tensor(0.9755),\n",
       "  tensor(0.9745),\n",
       "  tensor(0.9737),\n",
       "  tensor(0.9709),\n",
       "  tensor(0.9705),\n",
       "  tensor(0.9717)])"
      ]
     },
     "execution_count": 20,
     "metadata": {},
     "output_type": "execute_result"
    }
   ],
   "source": [
    "### your code here\n",
    "cnn = CNN()\n",
    "cnn = cnn.to(device)\n",
    "n_epochs = 50\n",
    "learning_rate = 0.001\n",
    "optimizer = torch.optim.Adam(cnn.parameters(), lr=0.001)\n",
    "cnn.to(device)\n",
    "train(cnn, optimizer, train_loader, test_loader, criterion, n_epochs, device)"
   ]
  },
  {
   "cell_type": "code",
   "execution_count": 21,
   "metadata": {
    "id": "eqpd48i25Yqt"
   },
   "outputs": [],
   "source": [
    "k = 4\n",
    "class CNN(nn.Module):\n",
    "    def __init__(self):\n",
    "        super(CNN, self).__init__( )\n",
    "        ### your code here: define layers\n",
    "        #First convolution layer\n",
    "        self.conv1 = nn.Sequential(\n",
    "            nn.Conv2d(in_channels=1, out_channels=6 * k, kernel_size=5, stride=1),\n",
    "            nn.ReLU(),\n",
    "            nn.AvgPool2d(kernel_size=2)\n",
    "        )\n",
    "        #Second convolution layer\n",
    "        self.conv2 = nn.Sequential(\n",
    "            nn.Conv2d(in_channels=6 * k, out_channels=16 * k, kernel_size=5, stride=1),\n",
    "            nn.ReLU(),\n",
    "            nn.AvgPool2d(kernel_size=2)\n",
    "        )\n",
    "        #First linear layer\n",
    "        self.fc1 = nn.Sequential(\n",
    "            nn.Linear(in_features=4 * 4 * 16 * k, out_features=120),\n",
    "            nn.ReLU()\n",
    "        )\n",
    "        #Second linear layer\n",
    "        self.fc2 = nn.Sequential(\n",
    "            nn.Linear(in_features=120, out_features=84),\n",
    "            nn.ReLU()\n",
    "        )\n",
    "        #Gauss layer\n",
    "        self.fc3 = nn.Sequential(\n",
    "            nn.Linear(in_features=84, out_features=10)\n",
    "        )\n",
    "    def forward(self, x):\n",
    "        conv1_output = self.conv1(x)  \n",
    "        conv2_output = self.conv2(conv1_output)  \n",
    "        conv2_output = conv2_output.view(-1, 4*4*16*k) #fast reshape \n",
    "        fc1_output = self.fc1(conv2_output)\n",
    "        fc2_output = self.fc2(fc1_output)\n",
    "        fc3_output = self.fc3(fc2_output)\n",
    "        return fc3_output\n",
    "        ### your code here: transform x using layers\n"
   ]
  },
  {
   "cell_type": "code",
   "execution_count": 22,
   "metadata": {},
   "outputs": [
    {
     "name": "stdout",
     "output_type": "stream",
     "text": [
      "Epoch [1/50], Loss (train/test): 0.4328/0.4517, Acc (train/test): 0.8643/0.8681\n",
      "Epoch [2/50], Loss (train/test): 0.2807/0.2670, Acc (train/test): 0.9103/0.9126\n",
      "Epoch [3/50], Loss (train/test): 0.1906/0.1590, Acc (train/test): 0.9376/0.9374\n",
      "Epoch [4/50], Loss (train/test): 0.1406/0.1032, Acc (train/test): 0.9546/0.9530\n",
      "Epoch [5/50], Loss (train/test): 0.1126/0.0705, Acc (train/test): 0.9623/0.9618\n",
      "Epoch [6/50], Loss (train/test): 0.0969/0.0602, Acc (train/test): 0.9677/0.9672\n",
      "Epoch [7/50], Loss (train/test): 0.0804/0.0568, Acc (train/test): 0.9713/0.9693\n",
      "Epoch [8/50], Loss (train/test): 0.0673/0.0584, Acc (train/test): 0.9738/0.9693\n",
      "Epoch [9/50], Loss (train/test): 0.0545/0.0450, Acc (train/test): 0.9801/0.9762\n",
      "Epoch [10/50], Loss (train/test): 0.0396/0.0397, Acc (train/test): 0.9833/0.9793\n",
      "Epoch [11/50], Loss (train/test): 0.0340/0.0384, Acc (train/test): 0.9843/0.9782\n",
      "Epoch [12/50], Loss (train/test): 0.0306/0.0405, Acc (train/test): 0.9834/0.9778\n",
      "Epoch [13/50], Loss (train/test): 0.0270/0.0458, Acc (train/test): 0.9820/0.9766\n",
      "Epoch [14/50], Loss (train/test): 0.0195/0.0440, Acc (train/test): 0.9858/0.9784\n",
      "Epoch [15/50], Loss (train/test): 0.0188/0.0378, Acc (train/test): 0.9882/0.9796\n",
      "Epoch [16/50], Loss (train/test): 0.0197/0.0319, Acc (train/test): 0.9891/0.9800\n",
      "Epoch [17/50], Loss (train/test): 0.0227/0.0298, Acc (train/test): 0.9907/0.9793\n",
      "Epoch [18/50], Loss (train/test): 0.0237/0.0283, Acc (train/test): 0.9881/0.9763\n",
      "Epoch [19/50], Loss (train/test): 0.0388/0.0483, Acc (train/test): 0.9791/0.9711\n",
      "Epoch [20/50], Loss (train/test): 0.0119/0.0211, Acc (train/test): 0.9912/0.9787\n",
      "Epoch [21/50], Loss (train/test): 0.0067/0.0157, Acc (train/test): 0.9939/0.9811\n",
      "Epoch [22/50], Loss (train/test): 0.0115/0.0249, Acc (train/test): 0.9909/0.9790\n",
      "Epoch [23/50], Loss (train/test): 0.0192/0.0519, Acc (train/test): 0.9854/0.9739\n",
      "Epoch [24/50], Loss (train/test): 0.0172/0.0478, Acc (train/test): 0.9860/0.9748\n",
      "Epoch [25/50], Loss (train/test): 0.0063/0.0295, Acc (train/test): 0.9891/0.9764\n",
      "Epoch [26/50], Loss (train/test): 0.0041/0.0250, Acc (train/test): 0.9942/0.9808\n",
      "Epoch [27/50], Loss (train/test): 0.0063/0.0286, Acc (train/test): 0.9934/0.9804\n",
      "Epoch [28/50], Loss (train/test): 0.0063/0.0348, Acc (train/test): 0.9940/0.9800\n",
      "Epoch [29/50], Loss (train/test): 0.0056/0.0384, Acc (train/test): 0.9945/0.9797\n",
      "Epoch [30/50], Loss (train/test): 0.0029/0.0463, Acc (train/test): 0.9957/0.9810\n",
      "Epoch [31/50], Loss (train/test): 0.0030/0.0400, Acc (train/test): 0.9958/0.9815\n",
      "Epoch [32/50], Loss (train/test): 0.0072/0.0437, Acc (train/test): 0.9915/0.9761\n",
      "Epoch [33/50], Loss (train/test): 0.0126/0.0385, Acc (train/test): 0.9986/0.9836\n",
      "Epoch [34/50], Loss (train/test): 0.0020/0.0296, Acc (train/test): 0.9976/0.9822\n",
      "Epoch [35/50], Loss (train/test): 0.0012/0.0363, Acc (train/test): 0.9989/0.9840\n",
      "Epoch [36/50], Loss (train/test): 0.0030/0.0316, Acc (train/test): 0.9979/0.9848\n",
      "Epoch [37/50], Loss (train/test): 0.0030/0.0293, Acc (train/test): 0.9978/0.9829\n",
      "Epoch [38/50], Loss (train/test): 0.0021/0.0202, Acc (train/test): 0.9968/0.9831\n",
      "Epoch [39/50], Loss (train/test): 0.0019/0.0294, Acc (train/test): 0.9973/0.9826\n",
      "Epoch [40/50], Loss (train/test): 0.0155/0.0481, Acc (train/test): 0.9940/0.9805\n",
      "Epoch [41/50], Loss (train/test): 0.0012/0.0352, Acc (train/test): 0.9977/0.9837\n",
      "Epoch [42/50], Loss (train/test): 0.0015/0.0626, Acc (train/test): 0.9963/0.9819\n",
      "Epoch [43/50], Loss (train/test): 0.0009/0.0493, Acc (train/test): 0.9963/0.9817\n",
      "Epoch [44/50], Loss (train/test): 0.0053/0.0475, Acc (train/test): 0.9951/0.9814\n",
      "Epoch [45/50], Loss (train/test): 0.0003/0.0386, Acc (train/test): 0.9979/0.9829\n",
      "Epoch [46/50], Loss (train/test): 0.0012/0.0301, Acc (train/test): 0.9967/0.9825\n",
      "Epoch [47/50], Loss (train/test): 0.0004/0.0259, Acc (train/test): 0.9979/0.9834\n",
      "Epoch [48/50], Loss (train/test): 0.0007/0.0464, Acc (train/test): 0.9963/0.9814\n",
      "Epoch [49/50], Loss (train/test): 0.0008/0.0407, Acc (train/test): 0.9968/0.9812\n",
      "Epoch [50/50], Loss (train/test): 0.0038/0.0278, Acc (train/test): 0.9965/0.9811\n"
     ]
    },
    {
     "data": {
      "text/plain": [
       "([tensor(0.4328, grad_fn=<NllLossBackward0>),\n",
       "  tensor(0.2807, grad_fn=<NllLossBackward0>),\n",
       "  tensor(0.1906, grad_fn=<NllLossBackward0>),\n",
       "  tensor(0.1406, grad_fn=<NllLossBackward0>),\n",
       "  tensor(0.1126, grad_fn=<NllLossBackward0>),\n",
       "  tensor(0.0969, grad_fn=<NllLossBackward0>),\n",
       "  tensor(0.0804, grad_fn=<NllLossBackward0>),\n",
       "  tensor(0.0673, grad_fn=<NllLossBackward0>),\n",
       "  tensor(0.0545, grad_fn=<NllLossBackward0>),\n",
       "  tensor(0.0396, grad_fn=<NllLossBackward0>),\n",
       "  tensor(0.0340, grad_fn=<NllLossBackward0>),\n",
       "  tensor(0.0306, grad_fn=<NllLossBackward0>),\n",
       "  tensor(0.0270, grad_fn=<NllLossBackward0>),\n",
       "  tensor(0.0195, grad_fn=<NllLossBackward0>),\n",
       "  tensor(0.0188, grad_fn=<NllLossBackward0>),\n",
       "  tensor(0.0197, grad_fn=<NllLossBackward0>),\n",
       "  tensor(0.0227, grad_fn=<NllLossBackward0>),\n",
       "  tensor(0.0237, grad_fn=<NllLossBackward0>),\n",
       "  tensor(0.0388, grad_fn=<NllLossBackward0>),\n",
       "  tensor(0.0119, grad_fn=<NllLossBackward0>),\n",
       "  tensor(0.0067, grad_fn=<NllLossBackward0>),\n",
       "  tensor(0.0115, grad_fn=<NllLossBackward0>),\n",
       "  tensor(0.0192, grad_fn=<NllLossBackward0>),\n",
       "  tensor(0.0172, grad_fn=<NllLossBackward0>),\n",
       "  tensor(0.0063, grad_fn=<NllLossBackward0>),\n",
       "  tensor(0.0041, grad_fn=<NllLossBackward0>),\n",
       "  tensor(0.0063, grad_fn=<NllLossBackward0>),\n",
       "  tensor(0.0063, grad_fn=<NllLossBackward0>),\n",
       "  tensor(0.0056, grad_fn=<NllLossBackward0>),\n",
       "  tensor(0.0029, grad_fn=<NllLossBackward0>),\n",
       "  tensor(0.0030, grad_fn=<NllLossBackward0>),\n",
       "  tensor(0.0072, grad_fn=<NllLossBackward0>),\n",
       "  tensor(0.0126, grad_fn=<NllLossBackward0>),\n",
       "  tensor(0.0020, grad_fn=<NllLossBackward0>),\n",
       "  tensor(0.0012, grad_fn=<NllLossBackward0>),\n",
       "  tensor(0.0030, grad_fn=<NllLossBackward0>),\n",
       "  tensor(0.0030, grad_fn=<NllLossBackward0>),\n",
       "  tensor(0.0021, grad_fn=<NllLossBackward0>),\n",
       "  tensor(0.0019, grad_fn=<NllLossBackward0>),\n",
       "  tensor(0.0155, grad_fn=<NllLossBackward0>),\n",
       "  tensor(0.0012, grad_fn=<NllLossBackward0>),\n",
       "  tensor(0.0015, grad_fn=<NllLossBackward0>),\n",
       "  tensor(0.0009, grad_fn=<NllLossBackward0>),\n",
       "  tensor(0.0053, grad_fn=<NllLossBackward0>),\n",
       "  tensor(0.0003, grad_fn=<NllLossBackward0>),\n",
       "  tensor(0.0012, grad_fn=<NllLossBackward0>),\n",
       "  tensor(0.0004, grad_fn=<NllLossBackward0>),\n",
       "  tensor(0.0007, grad_fn=<NllLossBackward0>),\n",
       "  tensor(0.0008, grad_fn=<NllLossBackward0>),\n",
       "  tensor(0.0038, grad_fn=<NllLossBackward0>)],\n",
       " [tensor(0.8643),\n",
       "  tensor(0.9103),\n",
       "  tensor(0.9376),\n",
       "  tensor(0.9546),\n",
       "  tensor(0.9623),\n",
       "  tensor(0.9677),\n",
       "  tensor(0.9713),\n",
       "  tensor(0.9738),\n",
       "  tensor(0.9801),\n",
       "  tensor(0.9833),\n",
       "  tensor(0.9843),\n",
       "  tensor(0.9834),\n",
       "  tensor(0.9820),\n",
       "  tensor(0.9858),\n",
       "  tensor(0.9882),\n",
       "  tensor(0.9891),\n",
       "  tensor(0.9907),\n",
       "  tensor(0.9881),\n",
       "  tensor(0.9791),\n",
       "  tensor(0.9912),\n",
       "  tensor(0.9939),\n",
       "  tensor(0.9909),\n",
       "  tensor(0.9854),\n",
       "  tensor(0.9860),\n",
       "  tensor(0.9891),\n",
       "  tensor(0.9942),\n",
       "  tensor(0.9934),\n",
       "  tensor(0.9940),\n",
       "  tensor(0.9945),\n",
       "  tensor(0.9957),\n",
       "  tensor(0.9958),\n",
       "  tensor(0.9915),\n",
       "  tensor(0.9986),\n",
       "  tensor(0.9976),\n",
       "  tensor(0.9989),\n",
       "  tensor(0.9979),\n",
       "  tensor(0.9978),\n",
       "  tensor(0.9968),\n",
       "  tensor(0.9973),\n",
       "  tensor(0.9940),\n",
       "  tensor(0.9977),\n",
       "  tensor(0.9963),\n",
       "  tensor(0.9963),\n",
       "  tensor(0.9951),\n",
       "  tensor(0.9979),\n",
       "  tensor(0.9967),\n",
       "  tensor(0.9979),\n",
       "  tensor(0.9963),\n",
       "  tensor(0.9968),\n",
       "  tensor(0.9965)],\n",
       " [tensor(0.4517, grad_fn=<NllLossBackward0>),\n",
       "  tensor(0.2670, grad_fn=<NllLossBackward0>),\n",
       "  tensor(0.1590, grad_fn=<NllLossBackward0>),\n",
       "  tensor(0.1032, grad_fn=<NllLossBackward0>),\n",
       "  tensor(0.0705, grad_fn=<NllLossBackward0>),\n",
       "  tensor(0.0602, grad_fn=<NllLossBackward0>),\n",
       "  tensor(0.0568, grad_fn=<NllLossBackward0>),\n",
       "  tensor(0.0584, grad_fn=<NllLossBackward0>),\n",
       "  tensor(0.0450, grad_fn=<NllLossBackward0>),\n",
       "  tensor(0.0397, grad_fn=<NllLossBackward0>),\n",
       "  tensor(0.0384, grad_fn=<NllLossBackward0>),\n",
       "  tensor(0.0405, grad_fn=<NllLossBackward0>),\n",
       "  tensor(0.0458, grad_fn=<NllLossBackward0>),\n",
       "  tensor(0.0440, grad_fn=<NllLossBackward0>),\n",
       "  tensor(0.0378, grad_fn=<NllLossBackward0>),\n",
       "  tensor(0.0319, grad_fn=<NllLossBackward0>),\n",
       "  tensor(0.0298, grad_fn=<NllLossBackward0>),\n",
       "  tensor(0.0283, grad_fn=<NllLossBackward0>),\n",
       "  tensor(0.0483, grad_fn=<NllLossBackward0>),\n",
       "  tensor(0.0211, grad_fn=<NllLossBackward0>),\n",
       "  tensor(0.0157, grad_fn=<NllLossBackward0>),\n",
       "  tensor(0.0249, grad_fn=<NllLossBackward0>),\n",
       "  tensor(0.0519, grad_fn=<NllLossBackward0>),\n",
       "  tensor(0.0478, grad_fn=<NllLossBackward0>),\n",
       "  tensor(0.0295, grad_fn=<NllLossBackward0>),\n",
       "  tensor(0.0250, grad_fn=<NllLossBackward0>),\n",
       "  tensor(0.0286, grad_fn=<NllLossBackward0>),\n",
       "  tensor(0.0348, grad_fn=<NllLossBackward0>),\n",
       "  tensor(0.0384, grad_fn=<NllLossBackward0>),\n",
       "  tensor(0.0463, grad_fn=<NllLossBackward0>),\n",
       "  tensor(0.0400, grad_fn=<NllLossBackward0>),\n",
       "  tensor(0.0437, grad_fn=<NllLossBackward0>),\n",
       "  tensor(0.0385, grad_fn=<NllLossBackward0>),\n",
       "  tensor(0.0296, grad_fn=<NllLossBackward0>),\n",
       "  tensor(0.0363, grad_fn=<NllLossBackward0>),\n",
       "  tensor(0.0316, grad_fn=<NllLossBackward0>),\n",
       "  tensor(0.0293, grad_fn=<NllLossBackward0>),\n",
       "  tensor(0.0202, grad_fn=<NllLossBackward0>),\n",
       "  tensor(0.0294, grad_fn=<NllLossBackward0>),\n",
       "  tensor(0.0481, grad_fn=<NllLossBackward0>),\n",
       "  tensor(0.0352, grad_fn=<NllLossBackward0>),\n",
       "  tensor(0.0626, grad_fn=<NllLossBackward0>),\n",
       "  tensor(0.0493, grad_fn=<NllLossBackward0>),\n",
       "  tensor(0.0475, grad_fn=<NllLossBackward0>),\n",
       "  tensor(0.0386, grad_fn=<NllLossBackward0>),\n",
       "  tensor(0.0301, grad_fn=<NllLossBackward0>),\n",
       "  tensor(0.0259, grad_fn=<NllLossBackward0>),\n",
       "  tensor(0.0464, grad_fn=<NllLossBackward0>),\n",
       "  tensor(0.0407, grad_fn=<NllLossBackward0>),\n",
       "  tensor(0.0278, grad_fn=<NllLossBackward0>)],\n",
       " [tensor(0.8681),\n",
       "  tensor(0.9126),\n",
       "  tensor(0.9374),\n",
       "  tensor(0.9530),\n",
       "  tensor(0.9618),\n",
       "  tensor(0.9672),\n",
       "  tensor(0.9693),\n",
       "  tensor(0.9693),\n",
       "  tensor(0.9762),\n",
       "  tensor(0.9793),\n",
       "  tensor(0.9782),\n",
       "  tensor(0.9778),\n",
       "  tensor(0.9766),\n",
       "  tensor(0.9784),\n",
       "  tensor(0.9796),\n",
       "  tensor(0.9800),\n",
       "  tensor(0.9793),\n",
       "  tensor(0.9763),\n",
       "  tensor(0.9711),\n",
       "  tensor(0.9787),\n",
       "  tensor(0.9811),\n",
       "  tensor(0.9790),\n",
       "  tensor(0.9739),\n",
       "  tensor(0.9748),\n",
       "  tensor(0.9764),\n",
       "  tensor(0.9808),\n",
       "  tensor(0.9804),\n",
       "  tensor(0.9800),\n",
       "  tensor(0.9797),\n",
       "  tensor(0.9810),\n",
       "  tensor(0.9815),\n",
       "  tensor(0.9761),\n",
       "  tensor(0.9836),\n",
       "  tensor(0.9822),\n",
       "  tensor(0.9840),\n",
       "  tensor(0.9848),\n",
       "  tensor(0.9829),\n",
       "  tensor(0.9831),\n",
       "  tensor(0.9826),\n",
       "  tensor(0.9805),\n",
       "  tensor(0.9837),\n",
       "  tensor(0.9819),\n",
       "  tensor(0.9817),\n",
       "  tensor(0.9814),\n",
       "  tensor(0.9829),\n",
       "  tensor(0.9825),\n",
       "  tensor(0.9834),\n",
       "  tensor(0.9814),\n",
       "  tensor(0.9812),\n",
       "  tensor(0.9811)])"
      ]
     },
     "execution_count": 22,
     "metadata": {},
     "output_type": "execute_result"
    }
   ],
   "source": [
    "### your code here\n",
    "cnn = CNN()\n",
    "cnn = cnn.to(device)\n",
    "n_epochs = 50\n",
    "learning_rate = 0.001\n",
    "optimizer = torch.optim.Adam(cnn.parameters(), lr=learning_rate)\n",
    "cnn.to(device)\n",
    "train(cnn, optimizer, train_loader, test_loader, criterion, n_epochs, device)"
   ]
  },
  {
   "cell_type": "code",
   "execution_count": 25,
   "metadata": {},
   "outputs": [],
   "source": [
    "k = 1\n",
    "class CNN(nn.Module):\n",
    "    def __init__(self):\n",
    "        super(CNN, self).__init__( )\n",
    "        ### your code here: define layers\n",
    "        #First convolution layer\n",
    "        self.conv1 = nn.Sequential(\n",
    "            nn.Conv2d(in_channels=1, out_channels=6 * k, kernel_size=5, stride=1),\n",
    "            nn.ReLU(),\n",
    "            nn.AvgPool2d(kernel_size=2)\n",
    "        )\n",
    "        #Second convolution layer\n",
    "        self.conv2 = nn.Sequential(\n",
    "            nn.Conv2d(in_channels=6 * k, out_channels=16 * k, kernel_size=5, stride=1),\n",
    "            nn.ReLU(),\n",
    "            nn.AvgPool2d(kernel_size=2)\n",
    "        )\n",
    "        #First linear layer\n",
    "        self.fc1 = nn.Sequential(\n",
    "            nn.Linear(in_features=4 * 4 * 16 * k, out_features=84),\n",
    "            nn.ReLU()\n",
    "        )\n",
    "        #Gauss layer\n",
    "        self.fc3 = nn.Sequential(\n",
    "            nn.Linear(in_features=84, out_features=10)\n",
    "        )\n",
    "    def forward(self, x):\n",
    "        conv1_output = self.conv1(x)  \n",
    "        conv2_output = self.conv2(conv1_output)  \n",
    "        conv2_output = conv2_output.view(-1, 4*4*16*k) #fast reshape \n",
    "        fc1_output = self.fc1(conv2_output)\n",
    "        fc3_output = self.fc3(fc1_output)\n",
    "        return fc3_output\n",
    "        ### your code here: transform x using layers\n"
   ]
  },
  {
   "cell_type": "code",
   "execution_count": 26,
   "metadata": {},
   "outputs": [
    {
     "name": "stdout",
     "output_type": "stream",
     "text": [
      "Epoch [1/50], Loss (train/test): 0.6088/0.6116, Acc (train/test): 0.8101/0.8215\n",
      "Epoch [2/50], Loss (train/test): 0.3982/0.3537, Acc (train/test): 0.8791/0.8899\n",
      "Epoch [3/50], Loss (train/test): 0.3172/0.2401, Acc (train/test): 0.9062/0.9115\n",
      "Epoch [4/50], Loss (train/test): 0.2609/0.1754, Acc (train/test): 0.9237/0.9244\n",
      "Epoch [5/50], Loss (train/test): 0.2201/0.1349, Acc (train/test): 0.9336/0.9345\n",
      "Epoch [6/50], Loss (train/test): 0.1878/0.1064, Acc (train/test): 0.9415/0.9436\n",
      "Epoch [7/50], Loss (train/test): 0.1634/0.0862, Acc (train/test): 0.9475/0.9499\n",
      "Epoch [8/50], Loss (train/test): 0.1438/0.0723, Acc (train/test): 0.9533/0.9552\n",
      "Epoch [9/50], Loss (train/test): 0.1277/0.0625, Acc (train/test): 0.9586/0.9594\n",
      "Epoch [10/50], Loss (train/test): 0.1138/0.0537, Acc (train/test): 0.9627/0.9630\n",
      "Epoch [11/50], Loss (train/test): 0.1027/0.0467, Acc (train/test): 0.9659/0.9663\n",
      "Epoch [12/50], Loss (train/test): 0.0944/0.0411, Acc (train/test): 0.9693/0.9684\n",
      "Epoch [13/50], Loss (train/test): 0.0878/0.0376, Acc (train/test): 0.9713/0.9707\n",
      "Epoch [14/50], Loss (train/test): 0.0824/0.0345, Acc (train/test): 0.9733/0.9719\n",
      "Epoch [15/50], Loss (train/test): 0.0777/0.0325, Acc (train/test): 0.9738/0.9728\n",
      "Epoch [16/50], Loss (train/test): 0.0735/0.0307, Acc (train/test): 0.9743/0.9726\n",
      "Epoch [17/50], Loss (train/test): 0.0706/0.0297, Acc (train/test): 0.9759/0.9732\n",
      "Epoch [18/50], Loss (train/test): 0.0674/0.0286, Acc (train/test): 0.9765/0.9745\n",
      "Epoch [19/50], Loss (train/test): 0.0642/0.0274, Acc (train/test): 0.9773/0.9750\n",
      "Epoch [20/50], Loss (train/test): 0.0619/0.0262, Acc (train/test): 0.9782/0.9754\n",
      "Epoch [21/50], Loss (train/test): 0.0594/0.0254, Acc (train/test): 0.9794/0.9757\n",
      "Epoch [22/50], Loss (train/test): 0.0572/0.0240, Acc (train/test): 0.9804/0.9769\n",
      "Epoch [23/50], Loss (train/test): 0.0546/0.0231, Acc (train/test): 0.9815/0.9775\n",
      "Epoch [24/50], Loss (train/test): 0.0518/0.0221, Acc (train/test): 0.9824/0.9778\n",
      "Epoch [25/50], Loss (train/test): 0.0491/0.0211, Acc (train/test): 0.9841/0.9785\n",
      "Epoch [26/50], Loss (train/test): 0.0468/0.0203, Acc (train/test): 0.9851/0.9792\n",
      "Epoch [27/50], Loss (train/test): 0.0445/0.0196, Acc (train/test): 0.9864/0.9801\n",
      "Epoch [28/50], Loss (train/test): 0.0418/0.0195, Acc (train/test): 0.9870/0.9802\n",
      "Epoch [29/50], Loss (train/test): 0.0391/0.0192, Acc (train/test): 0.9877/0.9807\n",
      "Epoch [30/50], Loss (train/test): 0.0368/0.0190, Acc (train/test): 0.9885/0.9805\n",
      "Epoch [31/50], Loss (train/test): 0.0347/0.0189, Acc (train/test): 0.9889/0.9806\n",
      "Epoch [32/50], Loss (train/test): 0.0315/0.0190, Acc (train/test): 0.9900/0.9812\n",
      "Epoch [33/50], Loss (train/test): 0.0298/0.0189, Acc (train/test): 0.9907/0.9811\n",
      "Epoch [34/50], Loss (train/test): 0.0287/0.0190, Acc (train/test): 0.9913/0.9815\n",
      "Epoch [35/50], Loss (train/test): 0.0260/0.0195, Acc (train/test): 0.9915/0.9813\n",
      "Epoch [36/50], Loss (train/test): 0.0244/0.0194, Acc (train/test): 0.9918/0.9820\n",
      "Epoch [37/50], Loss (train/test): 0.0230/0.0195, Acc (train/test): 0.9915/0.9812\n",
      "Epoch [38/50], Loss (train/test): 0.0209/0.0198, Acc (train/test): 0.9911/0.9812\n",
      "Epoch [39/50], Loss (train/test): 0.0208/0.0195, Acc (train/test): 0.9906/0.9815\n",
      "Epoch [40/50], Loss (train/test): 0.0187/0.0204, Acc (train/test): 0.9909/0.9816\n",
      "Epoch [41/50], Loss (train/test): 0.0172/0.0193, Acc (train/test): 0.9909/0.9819\n",
      "Epoch [42/50], Loss (train/test): 0.0177/0.0195, Acc (train/test): 0.9899/0.9812\n",
      "Epoch [43/50], Loss (train/test): 0.0181/0.0178, Acc (train/test): 0.9903/0.9810\n",
      "Epoch [44/50], Loss (train/test): 0.0180/0.0160, Acc (train/test): 0.9904/0.9810\n",
      "Epoch [45/50], Loss (train/test): 0.0184/0.0155, Acc (train/test): 0.9905/0.9817\n",
      "Epoch [46/50], Loss (train/test): 0.0190/0.0161, Acc (train/test): 0.9912/0.9818\n",
      "Epoch [47/50], Loss (train/test): 0.0187/0.0176, Acc (train/test): 0.9913/0.9826\n",
      "Epoch [48/50], Loss (train/test): 0.0194/0.0162, Acc (train/test): 0.9915/0.9812\n",
      "Epoch [49/50], Loss (train/test): 0.0172/0.0158, Acc (train/test): 0.9916/0.9807\n",
      "Epoch [50/50], Loss (train/test): 0.0158/0.0137, Acc (train/test): 0.9916/0.9812\n"
     ]
    },
    {
     "data": {
      "text/plain": [
       "([tensor(0.6088, grad_fn=<NllLossBackward0>),\n",
       "  tensor(0.3982, grad_fn=<NllLossBackward0>),\n",
       "  tensor(0.3172, grad_fn=<NllLossBackward0>),\n",
       "  tensor(0.2609, grad_fn=<NllLossBackward0>),\n",
       "  tensor(0.2201, grad_fn=<NllLossBackward0>),\n",
       "  tensor(0.1878, grad_fn=<NllLossBackward0>),\n",
       "  tensor(0.1634, grad_fn=<NllLossBackward0>),\n",
       "  tensor(0.1438, grad_fn=<NllLossBackward0>),\n",
       "  tensor(0.1277, grad_fn=<NllLossBackward0>),\n",
       "  tensor(0.1138, grad_fn=<NllLossBackward0>),\n",
       "  tensor(0.1027, grad_fn=<NllLossBackward0>),\n",
       "  tensor(0.0944, grad_fn=<NllLossBackward0>),\n",
       "  tensor(0.0878, grad_fn=<NllLossBackward0>),\n",
       "  tensor(0.0824, grad_fn=<NllLossBackward0>),\n",
       "  tensor(0.0777, grad_fn=<NllLossBackward0>),\n",
       "  tensor(0.0735, grad_fn=<NllLossBackward0>),\n",
       "  tensor(0.0706, grad_fn=<NllLossBackward0>),\n",
       "  tensor(0.0674, grad_fn=<NllLossBackward0>),\n",
       "  tensor(0.0642, grad_fn=<NllLossBackward0>),\n",
       "  tensor(0.0619, grad_fn=<NllLossBackward0>),\n",
       "  tensor(0.0594, grad_fn=<NllLossBackward0>),\n",
       "  tensor(0.0572, grad_fn=<NllLossBackward0>),\n",
       "  tensor(0.0546, grad_fn=<NllLossBackward0>),\n",
       "  tensor(0.0518, grad_fn=<NllLossBackward0>),\n",
       "  tensor(0.0491, grad_fn=<NllLossBackward0>),\n",
       "  tensor(0.0468, grad_fn=<NllLossBackward0>),\n",
       "  tensor(0.0445, grad_fn=<NllLossBackward0>),\n",
       "  tensor(0.0418, grad_fn=<NllLossBackward0>),\n",
       "  tensor(0.0391, grad_fn=<NllLossBackward0>),\n",
       "  tensor(0.0368, grad_fn=<NllLossBackward0>),\n",
       "  tensor(0.0347, grad_fn=<NllLossBackward0>),\n",
       "  tensor(0.0315, grad_fn=<NllLossBackward0>),\n",
       "  tensor(0.0298, grad_fn=<NllLossBackward0>),\n",
       "  tensor(0.0287, grad_fn=<NllLossBackward0>),\n",
       "  tensor(0.0260, grad_fn=<NllLossBackward0>),\n",
       "  tensor(0.0244, grad_fn=<NllLossBackward0>),\n",
       "  tensor(0.0230, grad_fn=<NllLossBackward0>),\n",
       "  tensor(0.0209, grad_fn=<NllLossBackward0>),\n",
       "  tensor(0.0208, grad_fn=<NllLossBackward0>),\n",
       "  tensor(0.0187, grad_fn=<NllLossBackward0>),\n",
       "  tensor(0.0172, grad_fn=<NllLossBackward0>),\n",
       "  tensor(0.0177, grad_fn=<NllLossBackward0>),\n",
       "  tensor(0.0181, grad_fn=<NllLossBackward0>),\n",
       "  tensor(0.0180, grad_fn=<NllLossBackward0>),\n",
       "  tensor(0.0184, grad_fn=<NllLossBackward0>),\n",
       "  tensor(0.0190, grad_fn=<NllLossBackward0>),\n",
       "  tensor(0.0187, grad_fn=<NllLossBackward0>),\n",
       "  tensor(0.0194, grad_fn=<NllLossBackward0>),\n",
       "  tensor(0.0172, grad_fn=<NllLossBackward0>),\n",
       "  tensor(0.0158, grad_fn=<NllLossBackward0>)],\n",
       " [tensor(0.8101),\n",
       "  tensor(0.8791),\n",
       "  tensor(0.9062),\n",
       "  tensor(0.9237),\n",
       "  tensor(0.9336),\n",
       "  tensor(0.9415),\n",
       "  tensor(0.9475),\n",
       "  tensor(0.9533),\n",
       "  tensor(0.9586),\n",
       "  tensor(0.9627),\n",
       "  tensor(0.9659),\n",
       "  tensor(0.9693),\n",
       "  tensor(0.9713),\n",
       "  tensor(0.9733),\n",
       "  tensor(0.9738),\n",
       "  tensor(0.9743),\n",
       "  tensor(0.9759),\n",
       "  tensor(0.9765),\n",
       "  tensor(0.9773),\n",
       "  tensor(0.9782),\n",
       "  tensor(0.9794),\n",
       "  tensor(0.9804),\n",
       "  tensor(0.9815),\n",
       "  tensor(0.9824),\n",
       "  tensor(0.9841),\n",
       "  tensor(0.9851),\n",
       "  tensor(0.9864),\n",
       "  tensor(0.9870),\n",
       "  tensor(0.9877),\n",
       "  tensor(0.9885),\n",
       "  tensor(0.9889),\n",
       "  tensor(0.9900),\n",
       "  tensor(0.9907),\n",
       "  tensor(0.9913),\n",
       "  tensor(0.9915),\n",
       "  tensor(0.9918),\n",
       "  tensor(0.9915),\n",
       "  tensor(0.9911),\n",
       "  tensor(0.9906),\n",
       "  tensor(0.9909),\n",
       "  tensor(0.9909),\n",
       "  tensor(0.9899),\n",
       "  tensor(0.9903),\n",
       "  tensor(0.9904),\n",
       "  tensor(0.9905),\n",
       "  tensor(0.9912),\n",
       "  tensor(0.9913),\n",
       "  tensor(0.9915),\n",
       "  tensor(0.9916),\n",
       "  tensor(0.9916)],\n",
       " [tensor(0.6116, grad_fn=<NllLossBackward0>),\n",
       "  tensor(0.3537, grad_fn=<NllLossBackward0>),\n",
       "  tensor(0.2401, grad_fn=<NllLossBackward0>),\n",
       "  tensor(0.1754, grad_fn=<NllLossBackward0>),\n",
       "  tensor(0.1349, grad_fn=<NllLossBackward0>),\n",
       "  tensor(0.1064, grad_fn=<NllLossBackward0>),\n",
       "  tensor(0.0862, grad_fn=<NllLossBackward0>),\n",
       "  tensor(0.0723, grad_fn=<NllLossBackward0>),\n",
       "  tensor(0.0625, grad_fn=<NllLossBackward0>),\n",
       "  tensor(0.0537, grad_fn=<NllLossBackward0>),\n",
       "  tensor(0.0467, grad_fn=<NllLossBackward0>),\n",
       "  tensor(0.0411, grad_fn=<NllLossBackward0>),\n",
       "  tensor(0.0376, grad_fn=<NllLossBackward0>),\n",
       "  tensor(0.0345, grad_fn=<NllLossBackward0>),\n",
       "  tensor(0.0325, grad_fn=<NllLossBackward0>),\n",
       "  tensor(0.0307, grad_fn=<NllLossBackward0>),\n",
       "  tensor(0.0297, grad_fn=<NllLossBackward0>),\n",
       "  tensor(0.0286, grad_fn=<NllLossBackward0>),\n",
       "  tensor(0.0274, grad_fn=<NllLossBackward0>),\n",
       "  tensor(0.0262, grad_fn=<NllLossBackward0>),\n",
       "  tensor(0.0254, grad_fn=<NllLossBackward0>),\n",
       "  tensor(0.0240, grad_fn=<NllLossBackward0>),\n",
       "  tensor(0.0231, grad_fn=<NllLossBackward0>),\n",
       "  tensor(0.0221, grad_fn=<NllLossBackward0>),\n",
       "  tensor(0.0211, grad_fn=<NllLossBackward0>),\n",
       "  tensor(0.0203, grad_fn=<NllLossBackward0>),\n",
       "  tensor(0.0196, grad_fn=<NllLossBackward0>),\n",
       "  tensor(0.0195, grad_fn=<NllLossBackward0>),\n",
       "  tensor(0.0192, grad_fn=<NllLossBackward0>),\n",
       "  tensor(0.0190, grad_fn=<NllLossBackward0>),\n",
       "  tensor(0.0189, grad_fn=<NllLossBackward0>),\n",
       "  tensor(0.0190, grad_fn=<NllLossBackward0>),\n",
       "  tensor(0.0189, grad_fn=<NllLossBackward0>),\n",
       "  tensor(0.0190, grad_fn=<NllLossBackward0>),\n",
       "  tensor(0.0195, grad_fn=<NllLossBackward0>),\n",
       "  tensor(0.0194, grad_fn=<NllLossBackward0>),\n",
       "  tensor(0.0195, grad_fn=<NllLossBackward0>),\n",
       "  tensor(0.0198, grad_fn=<NllLossBackward0>),\n",
       "  tensor(0.0195, grad_fn=<NllLossBackward0>),\n",
       "  tensor(0.0204, grad_fn=<NllLossBackward0>),\n",
       "  tensor(0.0193, grad_fn=<NllLossBackward0>),\n",
       "  tensor(0.0195, grad_fn=<NllLossBackward0>),\n",
       "  tensor(0.0178, grad_fn=<NllLossBackward0>),\n",
       "  tensor(0.0160, grad_fn=<NllLossBackward0>),\n",
       "  tensor(0.0155, grad_fn=<NllLossBackward0>),\n",
       "  tensor(0.0161, grad_fn=<NllLossBackward0>),\n",
       "  tensor(0.0176, grad_fn=<NllLossBackward0>),\n",
       "  tensor(0.0162, grad_fn=<NllLossBackward0>),\n",
       "  tensor(0.0158, grad_fn=<NllLossBackward0>),\n",
       "  tensor(0.0137, grad_fn=<NllLossBackward0>)],\n",
       " [tensor(0.8215),\n",
       "  tensor(0.8899),\n",
       "  tensor(0.9115),\n",
       "  tensor(0.9244),\n",
       "  tensor(0.9345),\n",
       "  tensor(0.9436),\n",
       "  tensor(0.9499),\n",
       "  tensor(0.9552),\n",
       "  tensor(0.9594),\n",
       "  tensor(0.9630),\n",
       "  tensor(0.9663),\n",
       "  tensor(0.9684),\n",
       "  tensor(0.9707),\n",
       "  tensor(0.9719),\n",
       "  tensor(0.9728),\n",
       "  tensor(0.9726),\n",
       "  tensor(0.9732),\n",
       "  tensor(0.9745),\n",
       "  tensor(0.9750),\n",
       "  tensor(0.9754),\n",
       "  tensor(0.9757),\n",
       "  tensor(0.9769),\n",
       "  tensor(0.9775),\n",
       "  tensor(0.9778),\n",
       "  tensor(0.9785),\n",
       "  tensor(0.9792),\n",
       "  tensor(0.9801),\n",
       "  tensor(0.9802),\n",
       "  tensor(0.9807),\n",
       "  tensor(0.9805),\n",
       "  tensor(0.9806),\n",
       "  tensor(0.9812),\n",
       "  tensor(0.9811),\n",
       "  tensor(0.9815),\n",
       "  tensor(0.9813),\n",
       "  tensor(0.9820),\n",
       "  tensor(0.9812),\n",
       "  tensor(0.9812),\n",
       "  tensor(0.9815),\n",
       "  tensor(0.9816),\n",
       "  tensor(0.9819),\n",
       "  tensor(0.9812),\n",
       "  tensor(0.9810),\n",
       "  tensor(0.9810),\n",
       "  tensor(0.9817),\n",
       "  tensor(0.9818),\n",
       "  tensor(0.9826),\n",
       "  tensor(0.9812),\n",
       "  tensor(0.9807),\n",
       "  tensor(0.9812)])"
      ]
     },
     "execution_count": 26,
     "metadata": {},
     "output_type": "execute_result"
    }
   ],
   "source": [
    "### your code here\n",
    "cnn = CNN()\n",
    "cnn = cnn.to(device)\n",
    "n_epochs = 50\n",
    "learning_rate = 0.001\n",
    "optimizer = torch.optim.Adam(cnn.parameters(), lr=learning_rate)\n",
    "cnn.to(device)\n",
    "train(cnn, optimizer, train_loader, test_loader, criterion, n_epochs, device)"
   ]
  },
  {
   "cell_type": "markdown",
   "metadata": {
    "id": "yoX-g-5n5Yqu"
   },
   "source": [
    "Choose the learning rate, batch size and the architecture based on your experiments. Train a network on the full dataset and print accuracy on the full test set."
   ]
  }
 ],
 "metadata": {
  "colab": {
   "provenance": []
  },
  "kernelspec": {
   "display_name": "Python 3 (ipykernel)",
   "language": "python",
   "name": "python3"
  },
  "language_info": {
   "codemirror_mode": {
    "name": "ipython",
    "version": 3
   },
   "file_extension": ".py",
   "mimetype": "text/x-python",
   "name": "python",
   "nbconvert_exporter": "python",
   "pygments_lexer": "ipython3",
   "version": "3.11.5"
  }
 },
 "nbformat": 4,
 "nbformat_minor": 1
}
